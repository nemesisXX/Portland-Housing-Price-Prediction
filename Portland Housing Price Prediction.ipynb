{
  "cells": [
    {
      "cell_type": "markdown",
      "metadata": {},
      "source": [
        "# Regression and Gradient Descent\n",
        "\n",
        "Using this dataset, we wish to model the prices of houses in Portland, as a linear function\n",
        "of the sizes of their living areas and the number of bedrooms, $h_w(x) = w_0 + w_1x_1 + w_2x_2$.\n",
        "We denote by $x(i)$ and $x(i)$ the living area and number of bedrooms of the $i-th$ house in the $12$\n",
        "training set respectively, and we denote by $y(i)$ the price of the $i$-th house in the training set."
      ]
    },
    {
      "cell_type": "markdown",
      "metadata": {},
      "source": [
        "If we have $N$ samples $(x^{(i)}, y^{(i)})_{i=1,\\dots,N}$, then we consider the cost function: \n",
        "$$\n",
        "  J(w) = J(w_0,w_1,w_2) = \\frac{1}{2N}\\sum_{i=1}^N\\left(y^{(i)} - w_0 - w_1 x^{(i)}_1 - w_2 x^{(i)}_2\\right)^2\n",
        "$$"
      ]
    },
    {
      "cell_type": "markdown",
      "metadata": {
        "id": "YkurJAre5iZI"
      },
      "source": [
        "One step of gradient descent:\n",
        "\n",
        "\n",
        "We know that the gradient descient formula is \n",
        "$$ w^k = w^{k-1} - \\alpha \\nabla J(w^{k-1}) $$\n",
        "To get $w^1$, we need to first illustrate $\\nabla J(w^0)$\n",
        "Here we know that\n",
        "\\begin{align}\n",
        "\\frac{\\partial J(w_0,w_1,w_2)}{\\partial w_0} &= \\frac{2}{2N}\\sum_{i=1}^{N}\\left(y^{(i)} - w_0 - w_1 x^{(i)}_1 - w_2 x^{(i)}_2\\right)*(-1)\\\\\n",
        "&= -\\frac{1}{N}\\sum_{i=1}^{N}\\left(y^{(i)} - w_0 - w_1 x^{(i)}_1 - w_2 x^{(i)}_2\\right)\\\\\n",
        "\\frac{\\partial J(w_0,w_1,w_2)}{\\partial w_1} &= -\\frac{1}{N}\\sum_{i=1}^{N}\\left(y^{(i)} - w_0 - w_1 x^{(i)}_1 - w_2 x^{(i)}_2\\right)*x^{(i)}_1\\\\\n",
        "\\frac{\\partial J(w_0,w_1,w_2)}{\\partial w_0} &= -\\frac{1}{N}\\sum_{i=1}^{N}\\left(y^{(i)} - w_0 - w_1 x^{(i)}_1 - w_2 x^{(i)}_2\\right)*x^{(i)}_2\n",
        "\\end{align}\n",
        "Plug in $w^0_0 = w^0_1 = w^0_2 = 0$, we get \n",
        "\\begin{align}\n",
        "\\frac{\\partial J(w_0,w_1,w_2)}{\\partial w_0} &= -\\frac{1}{N}\\sum_{i=1}^{N}y^{(i)}\\\\\n",
        "\\frac{\\partial J(w_0,w_1,w_2)}{\\partial w_1} &= -\\frac{1}{N}\\sum_{i=1}^{N}y^{(i)}x^{(i)}_1\\\\\n",
        "\\frac{\\partial J(w_0,w_1,w_2)}{\\partial w_0} &= -\\frac{1}{N}\\sum_{i=1}^{N}y^{(i)}x^{(i)}_2\n",
        "\\end{align}\n",
        "Therefore, we utilize the gradient descient formula above, and $\\alpha = 0.1$ to get\n",
        "\\begin{align}\n",
        "w^1_0 &= 0 - 0.1*-\\frac{1}{N}\\sum_{i=1}^{N}y^{(i)} = \\frac{1}{10}\\overline y\\\\\n",
        "w^1_1 &= 0 - 0.1*-\\frac{1}{N}\\sum_{i=1}^{N}y^{(i)}x^{(i)}_1 = \\frac{1}{10N}\\sum_{i=1}^{N}y^{(i)}x^{(i)}_1\\\\\n",
        "w^1_2 &= 0 - 0.1*-\\frac{1}{N}\\sum_{i=1}^{N}y^{(i)}x^{(i)}_2 = \\frac{1}{10N}\\sum_{i=1}^{N}y^{(i)}x^{(i)}_2\n",
        "\\end{align}"
      ]
    },
    {
      "cell_type": "markdown",
      "metadata": {
        "id": "ozfZdXcMH2wl"
      },
      "source": [
        "# Feature normalization"
      ]
    },
    {
      "cell_type": "markdown",
      "metadata": {
        "id": "QHIEkfBF5khG"
      },
      "source": [
        "Equations for mean and standard deviation\n",
        "\n",
        "Mean value:\n",
        "$$\\overline x = \\frac{1}{m}(x_1+...+x_m)$$\n",
        "Standard Deviation:\n",
        "$$\\sigma = \\sqrt{\\frac{\\sum_{i=1}^m(x_i-\\overline x)^2}{m}}$$"
      ]
    },
    {
      "cell_type": "code",
      "execution_count": 4,
      "metadata": {
        "id": "lKhciBaM5c3n"
      },
      "outputs": [],
      "source": [
        "import numpy as np\n",
        "\n",
        "def get_mean_stddev(numbers):\n",
        "  # input: numbers, a list of real numbers\n",
        "  # output: the mean and standard deviation of numbers\n",
        "  sum =0\n",
        "  sum2 = 0\n",
        "  for i in numbers:\n",
        "      sum += float(i)\n",
        "  mean = sum/len(numbers)\n",
        "  for i in numbers:\n",
        "      sum2 += (float(i)-mean)**2\n",
        "  stddev = np.sqrt(sum2/len(numbers))\n",
        "  return mean, stddev"
      ]
    },
    {
      "cell_type": "code",
      "execution_count": 5,
      "metadata": {
        "id": "5YE7NStF6nLf"
      },
      "outputs": [
        {
          "data": {
            "text/plain": [
              "(3.0, 1.4142135623730951)"
            ]
          },
          "execution_count": 5,
          "metadata": {},
          "output_type": "execute_result"
        }
      ],
      "source": [
        "# Test get_mean_stddev\n",
        "get_mean_stddev([1, 2, 3, 4, 5])"
      ]
    },
    {
      "cell_type": "code",
      "execution_count": 6,
      "metadata": {
        "id": "RxWN7ZJCHewv"
      },
      "outputs": [],
      "source": [
        "# A useful function\n",
        "def read_data(data_file_name):\n",
        "  with open(data_file_name, 'r') as input_file:\n",
        "    areas = []\n",
        "    nbedrooms = []\n",
        "    prices = []\n",
        "    # Read the input file line by line\n",
        "    lines = input_file.readlines()\n",
        "    for line in lines:\n",
        "          words = line.strip().split(',')\n",
        "          areas.append(float(words[0]))\n",
        "          nbedrooms.append(float(words[1]))\n",
        "          prices.append(float(words[2]))\n",
        "\n",
        "  return areas, nbedrooms, prices"
      ]
    },
    {
      "cell_type": "code",
      "execution_count": 7,
      "metadata": {
        "id": "-JqK6eWc66lj"
      },
      "outputs": [],
      "source": [
        "def create_normalized_data(data_file_name):\n",
        "  areas, nbedrooms, prices = read_data(data_file_name)\n",
        "  areas_mean, areas_stddev = get_mean_stddev(areas)\n",
        "  nbedrooms_mean, nbedrooms_stddev = get_mean_stddev(nbedrooms)\n",
        "  with open('normalized.txt', 'w') as output_file:\n",
        "    for a,n,p in zip(areas, nbedrooms, prices):\n",
        "      output_file.write(str((a-areas_mean)/areas_stddev) + ',' + \n",
        "                        str((n-nbedrooms_mean)/nbedrooms_stddev) + ',' + \n",
        "                        str(p) + '\\n')\n",
        "  # Return the mean and std dev for later use (during prediction)\n",
        "  return areas_mean, areas_stddev, nbedrooms_mean, nbedrooms_stddev\n"
      ]
    },
    {
      "cell_type": "code",
      "execution_count": 8,
      "metadata": {
        "id": "gtT9vJ6y8hWG"
      },
      "outputs": [],
      "source": [
        "# Test create_normalized_data\n",
        "data_file_name = 'housing.txt'\n",
        "areas_mean, areas_stddev, nbedrooms_mean, nbedrooms_stddev = create_normalized_data(data_file_name)"
      ]
    },
    {
      "cell_type": "markdown",
      "metadata": {
        "id": "HylMP5r9H7kb"
      },
      "source": [
        " # Computing optimal parameters"
      ]
    },
    {
      "cell_type": "code",
      "execution_count": 46,
      "metadata": {
        "id": "BW4UfQwWDWNc"
      },
      "outputs": [],
      "source": [
        "def optimal_w(x1,x2,y):\n",
        "    x1 = np.array(x1)\n",
        "    x2 = np.array(x2)\n",
        "    y = np.array(y)\n",
        "    col = np.ones(len(x1))\n",
        "    x= np.vstack((col, x1, x2)).T\n",
        "    w = np.linalg.inv(x.T.dot(x)).dot(x.T.dot(y))\n",
        "    w0 = w[0]\n",
        "    w1 = w[1]\n",
        "    w2 = w[2]\n",
        "    return w0,w1,w2"
      ]
    },
    {
      "cell_type": "code",
      "execution_count": 47,
      "metadata": {},
      "outputs": [
        {
          "name": "stdout",
          "output_type": "stream",
          "text": [
            "(340412.6595744681, 109447.79646964182, -6578.35485416124)\n"
          ]
        }
      ],
      "source": [
        "areas, nbedrooms, prices = read_data('normalized.txt')\n",
        "print(optimal_w(areas,nbedrooms,prices))"
      ]
    },
    {
      "cell_type": "code",
      "execution_count": 28,
      "metadata": {
        "id": "Ix7a1LksOpDS"
      },
      "outputs": [],
      "source": [
        "\n",
        "def gradient_descent(alpha, niter, data):\n",
        "  # alpha: learning rage\n",
        "  # niter: number of iterations\n",
        "  # data: data set\n",
        "  # outputs values of the parameters and the objective\n",
        "  w0, w1, w2 = 0., 0., 0.\n",
        "  areas, nbedrooms, prices = data\n",
        "  N_samples = len(areas)\n",
        "  for _ in range (niter):\n",
        "    y_preds = [w0+w1*x1+w2*x2 for x1,x2 in zip(areas, nbedrooms)]\n",
        "    errors = [p - y_pred for p,y_pred in zip(prices, y_preds)]\n",
        "    # Compute partial derivatives\n",
        "    x1 = np.array(areas)\n",
        "    x2 = np.array(nbedrooms)\n",
        "    y = np.array(prices)\n",
        "    dJ_dw0 = (-1/N_samples)*np.sum(y-(w0+w1*x1+w2*x2))\n",
        "    dJ_dw1 = (-1/N_samples)*np.sum((y-(w0+w1*x1+w2*x2))*x1)\n",
        "    dJ_dw2 = (-1/N_samples)*np.sum((y-(w0+w1*x1+w2*x2))*x2)\n",
        "    # note: I don't use errors here \n",
        "    # because the first time I tried errors made the final result a little bit gaps\n",
        "    # with the correct one in the comment\n",
        "    # Update weights\n",
        "    w0 = w0-alpha*dJ_dw0\n",
        "    w1 = w1-alpha*dJ_dw1\n",
        "    w2 = w2-alpha*dJ_dw2\n",
        "  # Do one last evaluation after the last gradient step\n",
        "  Jw = (1/(2*N_samples))*np.sum((y-(w0+w1*x1+w2*x2))**2)\n",
        "  return w0, w1, w2, Jw"
      ]
    },
    {
      "cell_type": "code",
      "execution_count": 29,
      "metadata": {
        "id": "oILKP9QuOvi1"
      },
      "outputs": [
        {
          "name": "stdout",
          "output_type": "stream",
          "text": [
            "alpha = 0.01, \t J(w) = 10596969344.16698\n",
            "alpha = 0.1, \t J(w) = 2043462824.618168\n",
            "alpha = 0.3, \t J(w) = 2043280050.603576\n"
          ]
        }
      ],
      "source": [
        "# Test gradient_descent\n",
        "areas, nbedrooms, prices = read_data('normalized.txt')\n",
        "import matplotlib.pyplot as plt\n",
        "niter = 100\n",
        "\n",
        "# Try several values of alpha\n",
        "for alpha in [0.01, 0.1, 0.3]:\n",
        "  _,_,_, Jw = gradient_descent(alpha, niter, (areas, nbedrooms, prices))\n",
        "  print(\"alpha = {}, \\t J(w) = {}\".format(alpha, Jw))"
      ]
    },
    {
      "cell_type": "markdown",
      "metadata": {
        "id": "WWTZZApZDNXt"
      },
      "source": [
        "when alpha = 0.3, we get the smallest value."
      ]
    },
    {
      "cell_type": "code",
      "execution_count": 107,
      "metadata": {
        "id": "iewALZk0D9Ew"
      },
      "outputs": [],
      "source": [
        "def gradient_descent(alpha, niter, data):\n",
        "  w0, w1, w2 = 0., 0., 0.\n",
        "  areas, nbedrooms, prices = data\n",
        "  N_samples = len(areas)\n",
        "  Jws = []\n",
        "  x1 = np.array(areas)\n",
        "  x2 = np.array(nbedrooms)\n",
        "  y = np.array(prices)\n",
        "  for k in range (niter):\n",
        "    Jw = (1/(2*N_samples))*np.sum((y-(w0+w1*x1+w2*x2))**2)\n",
        "    Jws.append(Jw) \n",
        "    if k%10==0:\n",
        "      print(\"k={}, J(w)={}\".format(k, Jw))\n",
        "    # Compute partial derivatives\n",
        "    dJ_dw0 = (-1/N_samples)*np.sum(y-(w0+w1*x1+w2*x2))\n",
        "    dJ_dw1 = (-1/N_samples)*np.sum((y-(w0+w1*x1+w2*x2))*x1)\n",
        "    dJ_dw2 = (-1/N_samples)*np.sum((y-(w0+w1*x1+w2*x2))*x2)\n",
        "    # Update weights\n",
        "    w0 = w0-alpha*dJ_dw0\n",
        "    w1 = w1-alpha*dJ_dw1\n",
        "    w2 = w2-alpha*dJ_dw2\n",
        "  # Do one last evaluation after the last gradient step\n",
        "  Jw = (1/(2*N_samples))*np.sum((y-(w0+w1*x1+w2*x2))**2)\n",
        "  Jws.append(Jw)\n",
        "  return w0, w1, w2, Jws"
      ]
    },
    {
      "cell_type": "code",
      "execution_count": 113,
      "metadata": {
        "id": "dKjPA5JwHXoH"
      },
      "outputs": [
        {
          "name": "stdout",
          "output_type": "stream",
          "text": [
            "k=0, J(w)=65591548106.45744\n",
            "k=10, J(w)=53802483965.89506\n",
            "k=20, J(w)=44245589521.92844\n",
            "k=30, J(w)=36489079464.91514\n",
            "k=40, J(w)=30186817066.683083\n",
            "k=50, J(w)=25060807019.775597\n",
            "k=60, J(w)=20887393221.120014\n",
            "k=70, J(w)=17486347244.693893\n",
            "k=80, J(w)=14712219196.319695\n",
            "k=90, J(w)=12447464565.477882\n",
            "k=0, J(w)=65591548106.45744\n",
            "k=10, J(w)=9828412382.488955\n",
            "k=20, J(w)=3149150567.499295\n",
            "k=30, J(w)=2247079093.680353\n",
            "k=40, J(w)=2096405990.7371314\n",
            "k=50, J(w)=2061269629.246131\n",
            "k=60, J(w)=2050155296.7053473\n",
            "k=70, J(w)=2046021948.2604976\n",
            "k=80, J(w)=2044388322.4515283\n",
            "k=90, J(w)=2043729844.9843402\n",
            "k=0, J(w)=65591548106.45744\n",
            "k=10, J(w)=2176789165.5439835\n",
            "k=20, J(w)=2048458902.9165492\n",
            "k=30, J(w)=2043583067.7216742\n",
            "k=40, J(w)=2043297904.0299792\n",
            "k=50, J(w)=2043281102.6060784\n",
            "k=60, J(w)=2043280112.591613\n",
            "k=70, J(w)=2043280054.2554877\n",
            "k=80, J(w)=2043280050.8180594\n",
            "k=90, J(w)=2043280050.6155117\n"
          ]
        },
        {
          "data": {
            "image/png": "[encoded data removed]",
            "text/plain": [
              "<Figure size 432x288 with 1 Axes>"
            ]
          },
          "metadata": {
            "needs_background": "light"
          },
          "output_type": "display_data"
        }
      ],
      "source": [
        "# Test gradient_descent\n",
        "areas, nbedrooms, prices = read_data('normalized.txt')\n",
        "import matplotlib.pyplot as plt\n",
        "niter = 100\n",
        "\n",
        "# Try several values of alpha\n",
        "for alpha in (0.01, 0.1, 0.3):\n",
        "  _,_,_, Jws = gradient_descent(alpha, niter, (areas, nbedrooms, prices))\n",
        "  plt.plot(range(niter+1), Jws, label='alpha = {}'.format(alpha))\n",
        "plt.xlabel('iteration')\n",
        "plt.ylabel('J(w)')\n",
        "plt.legend()\n",
        "plt.show()"
      ]
    },
    {
      "cell_type": "code",
      "execution_count": 110,
      "metadata": {
        "id": "0---JHaVKzbf"
      },
      "outputs": [
        {
          "name": "stdout",
          "output_type": "stream",
          "text": [
            "k=0, J(w)=65591548106.45744\n",
            "k=10, J(w)=64303836897.56081\n",
            "k=20, J(w)=63042880008.80655\n",
            "k=30, J(w)=61808106035.02419\n",
            "k=40, J(w)=60598956190.66406\n",
            "k=50, J(w)=59414884019.5999\n",
            "k=60, J(w)=58255355111.91811\n",
            "k=70, J(w)=57119846827.51752\n",
            "k=80, J(w)=56007848026.347176\n",
            "k=90, J(w)=54918858805.11559\n",
            "k=0, J(w)=65591548106.45744\n",
            "k=10, J(w)=2043331579.4534426\n",
            "k=20, J(w)=2043280051.0763092\n",
            "k=30, J(w)=2043280050.6028326\n",
            "k=40, J(w)=2043280050.602828\n",
            "k=50, J(w)=2043280050.6028283\n",
            "k=60, J(w)=2043280050.602829\n",
            "k=70, J(w)=2043280050.6028283\n",
            "k=80, J(w)=2043280050.6028283\n",
            "k=90, J(w)=2043280050.6028283\n",
            "k=0, J(w)=65591548106.45744\n",
            "k=10, J(w)=7.99600418545755e+32\n",
            "k=20, J(w)=1.5465083680004526e+56\n",
            "k=30, J(w)=2.993741202086319e+79\n",
            "k=40, J(w)=5.795304485103185e+102\n",
            "k=50, J(w)=1.1218589653564024e+126\n",
            "k=60, J(w)=2.171702179558783e+149\n",
            "k=70, J(w)=4.20399578052314e+172\n",
            "k=80, J(w)=8.138123490877119e+195\n",
            "k=90, J(w)=1.5753834544649412e+219\n"
          ]
        },
        {
          "data": {
            "image/png": "[encoded data removed]",
            "text/plain": [
              "<Figure size 432x288 with 1 Axes>"
            ]
          },
          "metadata": {
            "needs_background": "light"
          },
          "output_type": "display_data"
        }
      ],
      "source": [
        "# Try several values of alpha\n",
        "for alpha in [0.001, 10.0]:\n",
        "  _,_,_, Jws = gradient_descent(alpha, niter, (areas, nbedrooms, prices))\n",
        "  plt.plot(range(niter+1), Jws, label='alpha = {}'.format(alpha))\n",
        "plt.xlabel('iteration')\n",
        "plt.ylabel('J(w)')\n",
        "plt.legend()\n",
        "plt.show()"
      ]
    },
    {
      "cell_type": "markdown",
      "metadata": {
        "id": "Ifyt_jLUDcrP"
      },
      "source": [
        "\n",
        "alpha = 0.3 is the best result, alpha = 10 is the worst result. From the graph, we can get if the learning rate is too small, though it will not jump over the local minimum, the small magnitude of gradient will slow down the speed of convergence so for alpha < 0.3, the speed of convergence will be increasing. For alpha =10, since the learning rate is too high, combined with the magnitude of the gradient, we jump over our local minimum. Due to the convex, convex curve of our objective function, as we continue to jump from side to side, the gradient at each jump grows higher. Our error increases quadratically with each “jump”, and our algorithm diverges to infinite error."
      ]
    },
    {
      "cell_type": "markdown",
      "metadata": {
        "id": "cIpR9msCY30t"
      },
      "source": [
        "For stochastic gradient descent, we consider the loss associated to a given sample point $(x,y)$:\n",
        "$$\n",
        "  J(w|x) = J(w_0,w_1,w_2|x) = \\frac{1}{2}\\left(y - w_0 - w_1 x_1 - w_2 x_2\\right)^2\n",
        "$$"
      ]
    },
    {
      "cell_type": "code",
      "execution_count": 58,
      "metadata": {
        "id": "ngD0UHuNWRDE"
      },
      "outputs": [],
      "source": [
        "import random\n",
        "\n",
        "# For the sake of reproducibility we fix \n",
        "# the seed of the randomness\n",
        "random.seed(42) \n",
        "\n",
        "def sto_gradient_descent(alpha, niter, data):\n",
        "  w0, w1, w2 = 0., 0., 0.\n",
        "  areas, nbedrooms, prices = data\n",
        "  N_samples = len(areas)\n",
        "  Jws_sample = []\n",
        "  Jws = []\n",
        "  x1 = np.array(areas)\n",
        "  x2 = np.array(nbedrooms)\n",
        "  y = np.array(prices)\n",
        "  for k in range (niter):\n",
        "    # Pick randomly a sample's index\n",
        "    i = random.randint(0,N_samples-1)\n",
        "    Jw_sample = (1/2)*(y[i]-w0-w1*x1[i]-w2*x2[i])**2# value of J on this sample \n",
        "    Jws_sample.append(Jw_sample) \n",
        "    # Evaluate true J(w)\n",
        "    Jw = (1/(2*N_samples))*np.sum((y-(w0+w1*x1+w2*x2))**2)# value of J on the whole data set\n",
        "    Jws.append(Jw)\n",
        "    if k%10==0:\n",
        "      print(\"i={}, J(w|x)={}, J(w)={}\".format(i, Jw_sample, Jw))\n",
        "    # Compute partial derivatives\n",
        "    dJ_dw0 = -1*(y[i]-(w0+w1*x1[i]+w2*x2[i]))\n",
        "    dJ_dw1 = -1*((y[i]-(w0+w1*x1[i]+w2*x2[i]))*x1[i])\n",
        "    dJ_dw2 = -1*((y[i]-(w0+w1*x1[i]+w2*x2[i]))*x2[i])\n",
        "    # Update weights\n",
        "    w0 = w0-alpha*dJ_dw0\n",
        "    w1 = w1-alpha*dJ_dw1\n",
        "    w2 = w2-alpha*dJ_dw2\n",
        "  # Do one last evaluation after the last gradient step\n",
        "  i = random.randint(0,N_samples-1)\n",
        "  Jw_sample = (1/2)*(y[i]-w0-w1*x1[i]-w2*x2[i])**2\n",
        "  Jws_sample.append(Jw_sample)\n",
        "  # Evaluate true J(w) \n",
        "  Jw = (1/(2*N_samples))*np.sum((y-(w0+w1*x1+w2*x2))**2)\n",
        "  Jws.append(Jw)\n",
        "  return w0, w1, w2, Jws, Jws_sample"
      ]
    },
    {
      "cell_type": "code",
      "execution_count": 59,
      "metadata": {
        "id": "ZFRZdzjBaemS"
      },
      "outputs": [
        {
          "name": "stdout",
          "output_type": "stream",
          "text": [
            "i=40, J(w|x)=67896125000.0, J(w)=65591548106.45744\n",
            "i=5, J(w|x)=37495648019.78809, J(w)=58189522547.4077\n",
            "i=1, J(w|x)=40612581644.87734, J(w)=43427906701.25152\n",
            "i=37, J(w|x)=25704898498.17787, J(w)=37347948410.978485\n",
            "i=21, J(w|x)=20110267670.468613, J(w)=30806886625.704063\n",
            "i=46, J(w|x)=11477459293.731686, J(w)=25156094824.212215\n",
            "i=23, J(w|x)=3051197055.221406, J(w)=21224644023.138645\n",
            "i=14, J(w|x)=10845166554.862038, J(w)=18245143868.13747\n",
            "i=13, J(w|x)=37210509538.90153, J(w)=15938810829.2648\n",
            "i=34, J(w|x)=2069726878.591041, J(w)=13388052468.667316\n",
            "i=14, J(w|x)=7102938830.875418, J(w)=11618052000.981848\n",
            "i=13, J(w|x)=22511103515.060825, J(w)=10238920163.636063\n",
            "i=9, J(w|x)=2155048820.681484, J(w)=8907497111.023687\n",
            "i=25, J(w|x)=4428484534.8189945, J(w)=7798805400.277448\n",
            "i=40, J(w|x)=18930728614.80897, J(w)=7364865227.042471\n",
            "i=33, J(w|x)=24144084957.792213, J(w)=6081268655.719829\n",
            "i=41, J(w|x)=1134179086.3996568, J(w)=5354111990.139566\n",
            "i=16, J(w|x)=8609865795.102783, J(w)=4933999495.283265\n",
            "i=12, J(w|x)=2149417124.4950647, J(w)=4292124959.7684255\n",
            "i=1, J(w|x)=4143009483.0622015, J(w)=4007426647.8041577\n",
            "i=46, J(w|x)=770964241.5864764, J(w)=3725571366.2404504\n",
            "i=16, J(w|x)=5717563264.460438, J(w)=3596308789.096353\n",
            "i=19, J(w|x)=14593310270.56928, J(w)=3234312764.06464\n",
            "i=14, J(w|x)=1075785877.1263266, J(w)=2940238900.0287285\n",
            "i=4, J(w|x)=4758560336.293415, J(w)=2803373196.4834204\n",
            "i=15, J(w|x)=3441716864.49222, J(w)=2668894393.2589774\n",
            "i=30, J(w|x)=3615020681.5734982, J(w)=2647328001.802852\n",
            "i=27, J(w|x)=4237226070.8260407, J(w)=2452980339.109408\n",
            "i=25, J(w|x)=603703578.7808111, J(w)=2398009841.4987793\n",
            "i=27, J(w|x)=3881072885.1355543, J(w)=2356457284.016623\n",
            "i=41, J(w|x)=225604975.54555142, J(w)=2314969351.4818416\n",
            "i=25, J(w|x)=435563131.8722384, J(w)=2265242933.752618\n",
            "i=44, J(w|x)=11965674.955952503, J(w)=2228780342.962623\n",
            "i=3, J(w|x)=26168718.734604567, J(w)=2233053716.1086383\n",
            "i=33, J(w|x)=6643329196.442566, J(w)=2225931807.8440356\n",
            "i=15, J(w|x)=2468476353.6808453, J(w)=2197886479.456043\n",
            "i=26, J(w|x)=20447523849.576992, J(w)=2209329055.815306\n",
            "i=20, J(w|x)=1183118364.4725962, J(w)=2172716815.4684873\n",
            "i=4, J(w|x)=3112594025.011162, J(w)=2183421779.0339155\n",
            "i=16, J(w|x)=2316265618.388194, J(w)=2179503080.3859563\n",
            "i=45, J(w|x)=272970623.2704414, J(w)=2154951796.7767286\n",
            "i=6, J(w|x)=997082636.161557, J(w)=2141744677.8566754\n",
            "i=13, J(w|x)=480735172.8946655, J(w)=2132339346.6870918\n",
            "i=3, J(w|x)=194143884.94250715, J(w)=2106594017.270062\n",
            "i=16, J(w|x)=1650882793.367463, J(w)=2089760356.6328928\n",
            "i=44, J(w|x)=5027986.1661928175, J(w)=2072147853.3747478\n",
            "i=2, J(w|x)=198230096.1186687, J(w)=2072794878.686422\n",
            "i=22, J(w|x)=793928741.468247, J(w)=2073766559.4790921\n",
            "i=11, J(w|x)=28772985.046467558, J(w)=2059839946.5956244\n",
            "i=2, J(w|x)=248681323.12115306, J(w)=2064033614.4661157\n",
            "i=42, J(w|x)=4986113991.72077, J(w)=2065709489.0259614\n",
            "i=25, J(w|x)=472400349.7769594, J(w)=2070482545.694662\n",
            "i=2, J(w|x)=215545116.13120392, J(w)=2069714444.4334853\n",
            "i=7, J(w|x)=2229995779.636686, J(w)=2093665948.8821878\n",
            "i=34, J(w|x)=308911547.5072457, J(w)=2075290819.8907967\n",
            "i=39, J(w|x)=2156630810.4306936, J(w)=2084496499.8779342\n",
            "i=20, J(w|x)=1571655517.59832, J(w)=2071839577.688193\n",
            "i=43, J(w|x)=1881083890.25606, J(w)=2077631640.878973\n",
            "i=13, J(w|x)=600318190.6188579, J(w)=2058145538.593895\n",
            "i=13, J(w|x)=894620291.7543836, J(w)=2067522105.5348163\n",
            "i=39, J(w|x)=2353413775.037573, J(w)=2069644040.5587413\n",
            "i=2, J(w|x)=356787997.68012315, J(w)=2058860230.6047752\n",
            "i=45, J(w|x)=204878618.83996275, J(w)=2074088678.6644926\n",
            "i=6, J(w|x)=514187210.9903874, J(w)=2064333192.8606427\n",
            "i=7, J(w|x)=2391368328.6072063, J(w)=2066101034.8338358\n",
            "i=39, J(w|x)=2587047714.397411, J(w)=2064836772.8985894\n",
            "i=15, J(w|x)=2854591726.311814, J(w)=2065374701.2690485\n",
            "i=45, J(w|x)=227223645.50286517, J(w)=2058768190.4320529\n",
            "i=14, J(w|x)=155803777.5331212, J(w)=2058108465.9726033\n",
            "i=34, J(w|x)=605492904.1997463, J(w)=2076463113.0812984\n",
            "i=36, J(w|x)=156153291.95595792, J(w)=2090593999.8953843\n",
            "i=38, J(w|x)=4178980524.7909265, J(w)=2104407464.3228517\n",
            "i=42, J(w|x)=6077181826.904564, J(w)=2101030099.7575934\n",
            "i=25, J(w|x)=216603645.30232075, J(w)=2080220861.6025345\n",
            "i=11, J(w|x)=18740738.91973556, J(w)=2085821299.0000896\n",
            "i=17, J(w|x)=853938523.1708653, J(w)=2083253855.6116486\n",
            "i=41, J(w|x)=770770483.4773604, J(w)=2087300757.780114\n",
            "i=15, J(w|x)=2610206236.7003484, J(w)=2083321244.961726\n",
            "i=23, J(w|x)=2742819258.011435, J(w)=2081148922.2451625\n",
            "i=1, J(w|x)=977734008.6513796, J(w)=2100571423.5106442\n",
            "i=44, J(w|x)=83330489.9200666, J(w)=2076770325.9853356\n",
            "i=2, J(w|x)=236202026.34282935, J(w)=2077715126.2928944\n",
            "i=0, J(w|x)=1205832737.3617103, J(w)=2075984883.1881573\n",
            "i=27, J(w|x)=2036092434.0482152, J(w)=2082413540.808964\n",
            "i=27, J(w|x)=2041874338.0043836, J(w)=2079020481.8728735\n",
            "i=29, J(w|x)=7487540036.417503, J(w)=2062486090.9370883\n",
            "i=31, J(w|x)=753573585.1382068, J(w)=2082845950.6533911\n",
            "i=0, J(w|x)=1447548321.9195178, J(w)=2098072997.7962935\n",
            "i=44, J(w|x)=7369542.580321231, J(w)=2078146029.8793936\n",
            "i=25, J(w|x)=445412793.0700504, J(w)=2075172026.4243348\n",
            "i=22, J(w|x)=955518445.6365509, J(w)=2068535787.6993256\n",
            "i=14, J(w|x)=218074388.56702548, J(w)=2085604131.9554403\n",
            "i=13, J(w|x)=103148595.25694154, J(w)=2089364190.5993097\n",
            "i=18, J(w|x)=2827197663.908433, J(w)=2076672308.8198972\n",
            "i=2, J(w|x)=329676443.1368721, J(w)=2093008870.564613\n",
            "i=36, J(w|x)=6591097.402201444, J(w)=2099497511.188809\n",
            "i=7, J(w|x)=2005082988.047298, J(w)=2099548218.2458115\n",
            "i=9, J(w|x)=443259538.44961405, J(w)=2122303839.8511374\n",
            "i=39, J(w|x)=3366627470.640384, J(w)=2081089827.582253\n",
            "i=36, J(w|x)=72043328.34082718, J(w)=2128582987.245447\n",
            "i=10, J(w|x)=28799760000.5, J(w)=65591548106.45744\n",
            "i=38, J(w|x)=124270303986.74104, J(w)=53778914407.58944\n",
            "i=4, J(w|x)=88253110307.61307, J(w)=42104867832.3572\n",
            "i=34, J(w|x)=15765617024.717796, J(w)=35182113932.966385\n",
            "i=38, J(w|x)=53469406341.95704, J(w)=29666228619.80052\n",
            "i=17, J(w|x)=5518747782.5584135, J(w)=24203011038.705635\n",
            "i=38, J(w|x)=26580687049.20614, J(w)=20237202942.42003\n",
            "i=17, J(w|x)=2664956484.4604173, J(w)=17387445590.966328\n",
            "i=37, J(w|x)=7311512944.530948, J(w)=14482416372.100069\n",
            "i=42, J(w|x)=1955675778.4573977, J(w)=12696608373.682407\n",
            "i=35, J(w|x)=2117135836.8120706, J(w)=11473269403.98074\n",
            "i=0, J(w|x)=15029185671.009314, J(w)=10755784745.320835\n",
            "i=31, J(w|x)=162385010.16037863, J(w)=9402365635.49692\n",
            "i=44, J(w|x)=559296166.8127881, J(w)=7516940171.317587\n",
            "i=35, J(w|x)=773299754.5287005, J(w)=6459702516.392736\n",
            "i=9, J(w|x)=209434561.36851132, J(w)=6098142072.293074\n",
            "i=15, J(w|x)=10240342480.524025, J(w)=5587301244.278267\n",
            "i=17, J(w|x)=52517404.10094914, J(w)=4781183300.791735\n",
            "i=37, J(w|x)=321006269.3033188, J(w)=4254326062.8815904\n",
            "i=34, J(w|x)=18425601.44726651, J(w)=4089912652.3615522\n",
            "i=26, J(w|x)=25570975016.96843, J(w)=3724008703.331396\n",
            "i=31, J(w|x)=79767849.32913508, J(w)=3391890693.037833\n",
            "i=29, J(w|x)=1897282077.4031167, J(w)=3133725269.4526043\n",
            "i=21, J(w|x)=245636887.279264, J(w)=2964376960.357488\n",
            "i=20, J(w|x)=443260968.29981345, J(w)=2919474525.3361773\n",
            "i=43, J(w|x)=2407549100.6415358, J(w)=2783653272.184948\n",
            "i=10, J(w|x)=3317083452.9611382, J(w)=2626920217.6106853\n",
            "i=27, J(w|x)=4769240707.363057, J(w)=2534847120.224763\n",
            "i=5, J(w|x)=536675501.41905725, J(w)=2411910299.82185\n",
            "i=29, J(w|x)=4096482909.683225, J(w)=2393115465.909045\n",
            "i=34, J(w|x)=359143941.28253275, J(w)=2453435073.0557714\n",
            "i=16, J(w|x)=1466185363.1481433, J(w)=2311682700.154399\n",
            "i=22, J(w|x)=964297777.428835, J(w)=2237875004.7241626\n",
            "i=36, J(w|x)=122327709.55929033, J(w)=2217029289.7479167\n",
            "i=40, J(w|x)=3821477241.176016, J(w)=2244843540.0160136\n",
            "i=6, J(w|x)=502382203.61051834, J(w)=2277102569.595233\n",
            "i=8, J(w|x)=1553070276.2121892, J(w)=2237897470.696608\n",
            "i=33, J(w|x)=7013123846.489552, J(w)=2230544997.217624\n",
            "i=4, J(w|x)=3917550059.3166847, J(w)=2199988851.7471848\n",
            "i=25, J(w|x)=147774656.36481673, J(w)=2195556283.7833652\n",
            "i=37, J(w|x)=10899643.861043999, J(w)=2244721591.190149\n",
            "i=35, J(w|x)=324043359.3074024, J(w)=2281299756.8454394\n",
            "i=41, J(w|x)=575916982.5649579, J(w)=2211413367.7462234\n",
            "i=15, J(w|x)=2896558732.477544, J(w)=2159714280.4755216\n",
            "i=37, J(w|x)=19280190.04435437, J(w)=2187682411.0069385\n",
            "i=2, J(w|x)=89584386.45961246, J(w)=2207226713.146001\n",
            "i=23, J(w|x)=2976361033.0179515, J(w)=2152076701.2172613\n",
            "i=5, J(w|x)=629316247.0962094, J(w)=2157432555.9267693\n",
            "i=8, J(w|x)=1239328041.906792, J(w)=2153364413.8241987\n",
            "i=9, J(w|x)=401180315.6424306, J(w)=2126261493.578433\n",
            "i=42, J(w|x)=4792846211.911486, J(w)=2124774715.5940785\n",
            "i=16, J(w|x)=1738209874.8016956, J(w)=2123219907.1686442\n",
            "i=32, J(w|x)=523559351.390389, J(w)=2089681714.0869367\n",
            "i=33, J(w|x)=5031673569.606909, J(w)=2089372716.3148017\n",
            "i=6, J(w|x)=602072513.8847417, J(w)=2077867287.8706489\n",
            "i=8, J(w|x)=1155596481.0676177, J(w)=2078810148.383562\n",
            "i=33, J(w|x)=4957871279.005893, J(w)=2086322116.733194\n",
            "i=41, J(w|x)=674822351.1298102, J(w)=2088570530.2370927\n",
            "i=25, J(w|x)=305794133.46721566, J(w)=2086063684.4724228\n",
            "i=9, J(w|x)=607535157.986304, J(w)=2100813808.3998327\n",
            "i=8, J(w|x)=1325277928.8525233, J(w)=2096595328.0704472\n",
            "i=22, J(w|x)=1082490405.1638978, J(w)=2101184683.37052\n",
            "i=36, J(w|x)=90666737.7519927, J(w)=2087873540.169117\n",
            "i=23, J(w|x)=2512412525.7607646, J(w)=2080660999.3373415\n",
            "i=41, J(w|x)=677314349.2492456, J(w)=2088221299.200971\n",
            "i=44, J(w|x)=164954941.979917, J(w)=2120919560.5716946\n",
            "i=4, J(w|x)=3438310421.754863, J(w)=2100002520.3170555\n",
            "i=21, J(w|x)=2606549546.0596404, J(w)=2073315305.085432\n",
            "i=9, J(w|x)=365400767.4975223, J(w)=2084807500.4284246\n",
            "i=31, J(w|x)=1242132043.0828328, J(w)=2096396202.4697719\n",
            "i=7, J(w|x)=1914211047.6259065, J(w)=2075154811.679991\n",
            "i=14, J(w|x)=210502850.17861757, J(w)=2058209601.6424062\n",
            "i=18, J(w|x)=3071334905.410024, J(w)=2059903693.3170948\n",
            "i=45, J(w|x)=200846383.7907958, J(w)=2074212869.8027186\n",
            "i=1, J(w|x)=1108403088.4592128, J(w)=2067671205.21524\n",
            "i=26, J(w|x)=19980313107.2823, J(w)=2061044007.8765006\n",
            "i=23, J(w|x)=2597109161.1322007, J(w)=2056211228.7560115\n",
            "i=25, J(w|x)=528744407.3129502, J(w)=2049183385.3033872\n",
            "i=33, J(w|x)=3256831585.28851, J(w)=2061897967.5067627\n",
            "i=9, J(w|x)=340229128.9505806, J(w)=2071825256.4327266\n",
            "i=31, J(w|x)=781329434.7857604, J(w)=2050021872.3457158\n",
            "i=20, J(w|x)=1562370766.0841942, J(w)=2046803934.31553\n",
            "i=17, J(w|x)=721828843.6315482, J(w)=2054515926.7935228\n",
            "i=3, J(w|x)=475092333.9227973, J(w)=2071403740.248487\n",
            "i=29, J(w|x)=8438442081.649525, J(w)=2048641955.5615656\n",
            "i=30, J(w|x)=378853788.59833956, J(w)=2050566947.683721\n",
            "i=41, J(w|x)=820512413.4840562, J(w)=2051223400.9846652\n",
            "i=10, J(w|x)=3742605699.40947, J(w)=2044684453.9840305\n",
            "i=40, J(w|x)=2097977988.5656116, J(w)=2050812629.3816502\n",
            "i=16, J(w|x)=1073280915.8030692, J(w)=2049425052.584876\n",
            "i=22, J(w|x)=937093751.4546934, J(w)=2075945438.9682105\n",
            "i=19, J(w|x)=9557755896.077332, J(w)=2090655911.0012777\n",
            "i=5, J(w|x)=393363620.7078211, J(w)=2071284332.4694817\n",
            "i=13, J(w|x)=1224115953.4518008, J(w)=2069550688.5267272\n",
            "i=32, J(w|x)=320901923.2913732, J(w)=2068422183.0048683\n",
            "i=9, J(w|x)=237289856.32875657, J(w)=2082575545.1492608\n",
            "i=23, J(w|x)=1866907210.9834766, J(w)=2079054003.3308501\n",
            "i=15, J(w|x)=3222563559.838084, J(w)=2057611231.1735804\n",
            "i=24, J(w|x)=278061380.6304964, J(w)=2046004342.1978033\n",
            "i=41, J(w|x)=923246448.9057864, J(w)=2059214687.975792\n",
            "i=17, J(w|x)=19980005000.0, J(w)=65591548106.45744\n",
            "i=26, J(w|x)=92884968078.48859, J(w)=55562527085.06808\n",
            "i=1, J(w|x)=37182706225.09315, J(w)=45949282060.333725\n",
            "i=30, J(w|x)=39344386576.08815, J(w)=39563444121.17457\n",
            "i=16, J(w|x)=19419202505.17582, J(w)=34660014078.17467\n",
            "i=15, J(w|x)=39092828944.72954, J(w)=25172978411.217804\n",
            "i=7, J(w|x)=2858682589.3543215, J(w)=20181283959.537006\n",
            "i=9, J(w|x)=5120636967.921082, J(w)=17294418686.19479\n",
            "i=42, J(w|x)=1606418250.965059, J(w)=14443761330.576143\n",
            "i=35, J(w|x)=4307973178.224673, J(w)=12164041192.02361\n",
            "i=22, J(w|x)=1696652927.3357077, J(w)=9813070036.78984\n",
            "i=8, J(w|x)=603173380.4503082, J(w)=8583316775.527708\n",
            "i=30, J(w|x)=12178402476.527437, J(w)=7902348660.743729\n",
            "i=2, J(w|x)=4069779428.6933546, J(w)=6768120029.110226\n",
            "i=2, J(w|x)=3176727786.781345, J(w)=5928327786.437971\n",
            "i=23, J(w|x)=247554625.39765996, J(w)=5483856045.642043\n",
            "i=23, J(w|x)=303578683.52477664, J(w)=4867253985.743957\n",
            "i=34, J(w|x)=56514954.93283627, J(w)=4293707183.5652776\n",
            "i=38, J(w|x)=134452185.8444729, J(w)=3816271697.672785\n",
            "i=22, J(w|x)=8700781.425003074, J(w)=3497163024.649236\n",
            "i=23, J(w|x)=1002959475.2811863, J(w)=3253459960.668238\n",
            "i=8, J(w|x)=245814047.28177354, J(w)=3126961937.655817\n",
            "i=9, J(w|x)=4099056.086302729, J(w)=2973147738.161189\n",
            "i=23, J(w|x)=1435154650.3596754, J(w)=2729054795.121757\n",
            "i=33, J(w|x)=10461517331.334578, J(w)=2693389958.9789524\n",
            "i=18, J(w|x)=5536331970.439707, J(w)=2495364334.107118\n",
            "i=28, J(w|x)=9172242189.396248, J(w)=2407004787.4287376\n",
            "i=18, J(w|x)=4761765923.002626, J(w)=2372583614.597191\n",
            "i=14, J(w|x)=550532445.676872, J(w)=2311195234.389625\n",
            "i=23, J(w|x)=2042552009.544295, J(w)=2298345567.22634\n",
            "i=46, J(w|x)=256162521.5353614, J(w)=2304700215.7333302\n",
            "i=4, J(w|x)=3007198166.729233, J(w)=2196599152.566958\n",
            "i=11, J(w|x)=172437238.83176345, J(w)=2152482872.635317\n",
            "i=10, J(w|x)=3958711246.5870814, J(w)=2153175701.956997\n",
            "i=40, J(w|x)=4013635960.537507, J(w)=2132241080.3589137\n",
            "i=41, J(w|x)=615087878.5693712, J(w)=2105497032.1426356\n",
            "i=21, J(w|x)=1972191648.9955084, J(w)=2127897275.8321238\n",
            "i=13, J(w|x)=1275887051.5873318, J(w)=2136010953.7216878\n",
            "i=41, J(w|x)=597851107.9833682, J(w)=2086282888.555418\n",
            "i=3, J(w|x)=279683045.56196344, J(w)=2070985654.992305\n",
            "i=20, J(w|x)=1331932478.7373452, J(w)=2069888399.9358602\n",
            "i=6, J(w|x)=961572782.6904366, J(w)=2082119016.1563025\n",
            "i=3, J(w|x)=255225618.04356715, J(w)=2083062777.6542737\n",
            "i=20, J(w|x)=1293445789.1889677, J(w)=2076149704.1213937\n",
            "i=5, J(w|x)=608761047.634638, J(w)=2104663419.9400723\n",
            "i=18, J(w|x)=3232262430.2329545, J(w)=2126113574.830634\n",
            "i=27, J(w|x)=2187590780.213798, J(w)=2103767203.097815\n",
            "i=36, J(w|x)=6307762.436810698, J(w)=2088717379.830403\n",
            "i=35, J(w|x)=47674142.00228027, J(w)=2082813310.6358893\n",
            "i=21, J(w|x)=2020461357.7183466, J(w)=2081974421.1873271\n",
            "i=2, J(w|x)=102135657.3347448, J(w)=2105345773.2079427\n",
            "i=32, J(w|x)=156591689.66666794, J(w)=2131460283.3366287\n",
            "i=21, J(w|x)=1848234538.4201717, J(w)=2141161945.4546726\n",
            "i=23, J(w|x)=2014607798.639463, J(w)=2128903330.7664337\n",
            "i=1, J(w|x)=1298241861.0896122, J(w)=2093561575.3622475\n",
            "i=37, J(w|x)=1656542.6545999735, J(w)=2099729871.9817111\n",
            "i=15, J(w|x)=3550166345.9032536, J(w)=2096789633.849489\n",
            "i=9, J(w|x)=446619674.85543543, J(w)=2079885729.153632\n",
            "i=45, J(w|x)=109672491.88389634, J(w)=2074012866.369164\n",
            "i=20, J(w|x)=1602520189.9856086, J(w)=2053183497.0080462\n",
            "i=41, J(w|x)=783824550.7694943, J(w)=2064710762.5733507\n",
            "i=14, J(w|x)=164322181.8979951, J(w)=2052443477.5890648\n",
            "i=22, J(w|x)=905919044.4578273, J(w)=2059108516.1138468\n",
            "i=25, J(w|x)=609352373.4488039, J(w)=2064607812.4629471\n",
            "i=41, J(w|x)=950746851.7481803, J(w)=2077738974.8220918\n",
            "i=8, J(w|x)=824927245.906252, J(w)=2071620251.945661\n",
            "i=40, J(w|x)=2841102996.5648403, J(w)=2072031749.9820411\n",
            "i=8, J(w|x)=1066149344.214792, J(w)=2060457202.2858913\n",
            "i=18, J(w|x)=2911945869.1152606, J(w)=2053586460.643158\n",
            "i=46, J(w|x)=21719491.6112251, J(w)=2057888004.6780636\n",
            "i=2, J(w|x)=481298820.36570287, J(w)=2072379393.0220613\n",
            "i=34, J(w|x)=611068657.4462674, J(w)=2077357784.5426126\n",
            "i=10, J(w|x)=4630365884.682072, J(w)=2090428598.335268\n",
            "i=36, J(w|x)=9955267.271212269, J(w)=2087269940.0306733\n",
            "i=5, J(w|x)=752621982.8874725, J(w)=2064360051.6403556\n",
            "i=16, J(w|x)=1317047209.4066403, J(w)=2058036927.294108\n",
            "i=0, J(w|x)=1003901447.7507787, J(w)=2071435028.610871\n",
            "i=19, J(w|x)=7323057149.902126, J(w)=2063640840.274567\n",
            "i=18, J(w|x)=2819640549.9880743, J(w)=2064013022.8908927\n",
            "i=23, J(w|x)=2527382908.0310407, J(w)=2057208034.8009095\n",
            "i=38, J(w|x)=3334317268.683284, J(w)=2053582022.7464056\n",
            "i=3, J(w|x)=655570196.8755382, J(w)=2046602992.3605788\n",
            "i=28, J(w|x)=5789358574.006717, J(w)=2045378875.5127306\n",
            "i=3, J(w|x)=544357034.8282696, J(w)=2046879843.4999676\n",
            "i=43, J(w|x)=2478064658.9976153, J(w)=2054346511.3423681\n",
            "i=2, J(w|x)=386514314.62435526, J(w)=2053015300.8919213\n",
            "i=18, J(w|x)=2687636154.294965, J(w)=2066709164.6340775\n",
            "i=28, J(w|x)=5345150881.4297285, J(w)=2060631022.059842\n",
            "i=7, J(w|x)=2208853300.741136, J(w)=2050240803.7997782\n",
            "i=19, J(w|x)=7168322761.4494095, J(w)=2049416633.4304826\n",
            "i=29, J(w|x)=8576571216.063561, J(w)=2056246144.3995435\n",
            "i=39, J(w|x)=2651972468.033309, J(w)=2051882021.2156982\n",
            "i=43, J(w|x)=1759154746.127762, J(w)=2067249489.4032063\n",
            "i=3, J(w|x)=761120371.2566439, J(w)=2066029419.378273\n",
            "i=43, J(w|x)=1813735664.4407575, J(w)=2064377128.257782\n",
            "i=17, J(w|x)=1038570017.378875, J(w)=2080866591.7273982\n",
            "i=3, J(w|x)=630909761.5868052, J(w)=2081930926.8867838\n",
            "i=9, J(w|x)=769897382.4725976, J(w)=2089963419.0673947\n",
            "i=9, J(w|x)=750536244.5244923, J(w)=2113463288.9734213\n",
            "i=15, J(w|x)=1626628154.2649367, J(w)=2125467371.3470516\n"
          ]
        },
        {
          "data": {
            "image/png": "[encoded data removed]",
            "text/plain": [
              "<Figure size 432x288 with 1 Axes>"
            ]
          },
          "metadata": {
            "needs_background": "light"
          },
          "output_type": "display_data"
        }
      ],
      "source": [
        "# Test gradient_descent\n",
        "areas, nbedrooms, prices = read_data('normalized.txt')\n",
        "import matplotlib.pyplot as plt\n",
        "niter = 1000\n",
        "\n",
        "# Try several runs with the same alpha\n",
        "for alpha in (0.01, 0.01, 0.01):\n",
        "  _,_,_, Jws, _ = sto_gradient_descent(alpha, niter, (areas, nbedrooms, prices))\n",
        "  plt.plot(range(niter+1), Jws, label='alpha = {}'.format(alpha))\n",
        "plt.xlabel('iteration')\n",
        "plt.ylabel('J(w)')\n",
        "plt.legend()\n",
        "plt.show()"
      ]
    },
    {
      "cell_type": "code",
      "execution_count": 60,
      "metadata": {
        "id": "rKDWH_CRbWuU",
        "scrolled": true
      },
      "outputs": [
        {
          "name": "stdout",
          "output_type": "stream",
          "text": [
            "i=12, J(w|x)=54449670000.5, J(w)=65591548106.45744\n",
            "i=37, J(w|x)=6537516232.579957, J(w)=11330545560.421791\n",
            "i=13, J(w|x)=10526167731.50646, J(w)=5701300283.195378\n",
            "i=15, J(w|x)=2238690286.50601, J(w)=2693690391.994925\n",
            "i=16, J(w|x)=8760288552.12716, J(w)=3344825615.934186\n",
            "i=23, J(w|x)=3002793698.6694965, J(w)=2502758190.938192\n",
            "i=37, J(w|x)=34255126.51698646, J(w)=2078913515.4370399\n",
            "i=36, J(w|x)=291044678.63264006, J(w)=2228143144.0834546\n",
            "i=41, J(w|x)=947799801.3225198, J(w)=2402224301.7032847\n",
            "i=31, J(w|x)=349811988.41857326, J(w)=2716982347.6043415\n",
            "i=26, J(w|x)=107880125000.0, J(w)=65591548106.45744\n",
            "i=29, J(w|x)=449612968.26136166, J(w)=17742119129.36295\n",
            "i=1, J(w|x)=5683210736.820318, J(w)=4276695615.1400847\n",
            "i=34, J(w|x)=19179482.374714926, J(w)=2177318716.1308084\n",
            "i=33, J(w|x)=1812677105.306802, J(w)=2258048003.921701\n",
            "i=5, J(w|x)=527157283.16461957, J(w)=2290407951.8182964\n",
            "i=5, J(w|x)=1813876612.645276, J(w)=2478575404.916298\n",
            "i=3, J(w|x)=1208328039.4442897, J(w)=2126199704.4355586\n",
            "i=36, J(w|x)=435675033.25158894, J(w)=2579972158.431127\n",
            "i=2, J(w|x)=319198932.4579516, J(w)=2058862541.325479\n",
            "i=13, J(w|x)=244930005000.0, J(w)=65591548106.45744\n",
            "i=36, J(w|x)=23248904678.040512, J(w)=31179595917.813793\n",
            "i=32, J(w|x)=767120738.0329036, J(w)=4210666354.325012\n",
            "i=38, J(w|x)=281278418.9134024, J(w)=3040985350.7140965\n",
            "i=35, J(w|x)=84168992.00222391, J(w)=2452792977.0140276\n",
            "i=18, J(w|x)=6337874915.58088, J(w)=2310565496.059647\n",
            "i=9, J(w|x)=508791018.83154017, J(w)=2071329024.7253187\n",
            "i=17, J(w|x)=478393359.55076134, J(w)=2151492251.410681\n",
            "i=26, J(w|x)=20515111172.056637, J(w)=2304280360.219838\n",
            "i=24, J(w|x)=21694964.107508354, J(w)=3168209367.7142835\n"
          ]
        },
        {
          "data": {
            "image/png": "[encoded data removed]",
            "text/plain": [
              "<Figure size 432x288 with 1 Axes>"
            ]
          },
          "metadata": {
            "needs_background": "light"
          },
          "output_type": "display_data"
        }
      ],
      "source": [
        "# Test gradient_descent\n",
        "areas, nbedrooms, prices = read_data('normalized.txt')\n",
        "import matplotlib.pyplot as plt\n",
        "niter = 100\n",
        "\n",
        "# Try several runs with the same alpha\n",
        "for alpha in (0.1, 0.1, 0.1):\n",
        "  _,_,_, Jws, _ = sto_gradient_descent(alpha, niter, (areas, nbedrooms, prices))\n",
        "  plt.plot(range(niter+1), Jws, label='alpha = {}'.format(alpha))\n",
        "plt.xlabel('iteration')\n",
        "plt.ylabel('J(w)')\n",
        "plt.legend()\n",
        "plt.show()"
      ]
    },
    {
      "cell_type": "markdown",
      "metadata": {
        "id": "AmEbYj2eDorL"
      },
      "source": [
        "### Comment on the comparison with gradient descent for the same learning rates.\n",
        "Question 7 uses gradient descent, which the partial derivatives are derived from a smooth convex function, so after every update, the graph still looks like smoothly.\n",
        "But Question 10 uses stochastic gradient descent, which the partial derivatives are derived from a discrete random point, so after each update, the graph will not looks so smooth."
      ]
    },
    {
      "cell_type": "markdown",
      "metadata": {
        "id": "tBW4QIjsbhat"
      },
      "source": [
        "## Question 10"
      ]
    },
    {
      "cell_type": "code",
      "execution_count": 106,
      "metadata": {
        "id": "OeNz1fZIbcGS"
      },
      "outputs": [
        {
          "name": "stdout",
          "output_type": "stream",
          "text": [
            "i=27, J(w|x)=109980500000.0, J(w)=65591548106.45744\n",
            "i=26, J(w|x)=21794561515.932144, J(w)=6481880041.290735\n",
            "i=13, J(w|x)=51279447944.873116, J(w)=8484220374.540765\n",
            "i=23, J(w|x)=30898071085.42579, J(w)=19876961820.3148\n",
            "i=21, J(w|x)=5669253489.174079, J(w)=5176354547.824409\n",
            "i=13, J(w|x)=28117164426.747322, J(w)=42571357662.68795\n",
            "i=37, J(w|x)=7489056779.379201, J(w)=6992296491.14376\n",
            "i=21, J(w|x)=16572899370.471106, J(w)=3824362851.6112785\n",
            "i=12, J(w|x)=588205692.8931285, J(w)=2899124044.566434\n",
            "i=45, J(w|x)=79863442.84098223, J(w)=2939264813.9831343\n",
            "i=17, J(w|x)=19980005000.0, J(w)=65591548106.45744\n",
            "i=31, J(w|x)=186971118520.62125, J(w)=51996893023.20897\n",
            "i=24, J(w|x)=328014937056.9482, J(w)=78551900886.75096\n",
            "i=37, J(w|x)=307081162267199.3, J(w)=485160483032086.56\n",
            "i=19, J(w|x)=340491148537.0571, J(w)=39336342411087.33\n",
            "i=34, J(w|x)=82379527150.40239, J(w)=119150765341.68321\n",
            "i=41, J(w|x)=180440419.95132327, J(w)=25540096556.10381\n",
            "i=23, J(w|x)=167031390194.44006, J(w)=533664137824.181\n",
            "i=18, J(w|x)=82819049293.76875, J(w)=99693923928.58307\n",
            "i=16, J(w|x)=47474209207.87145, J(w)=26821341377.112137\n",
            "i=40, J(w|x)=67896125000.0, J(w)=65591548106.45744\n",
            "i=37, J(w|x)=236328928633442.2, J(w)=402585784776243.4\n",
            "i=9, J(w|x)=9654327255160.326, J(w)=15082594205349.068\n",
            "i=31, J(w|x)=410709690613321.06, J(w)=71440714062234.97\n",
            "i=43, J(w|x)=20551290.353467517, J(w)=11389208382472.197\n",
            "i=25, J(w|x)=17406879819524.102, J(w)=10562954732015.875\n",
            "i=24, J(w|x)=31743961332807.914, J(w)=4952164161726.98\n",
            "i=9, J(w|x)=173126014719.0613, J(w)=2324302060580.8696\n",
            "i=12, J(w|x)=363365482.12046576, J(w)=21691979413282.32\n",
            "i=15, J(w|x)=5669578885495.472, J(w)=2657386058381.068\n"
          ]
        },
        {
          "data": {
            "image/png": "[encoded data removed]",
            "text/plain": [
              "<Figure size 432x288 with 1 Axes>"
            ]
          },
          "metadata": {
            "needs_background": "light"
          },
          "output_type": "display_data"
        }
      ],
      "source": [
        "# Test gradient_descent\n",
        "areas, nbedrooms, prices = read_data('normalized.txt')\n",
        "import matplotlib.pyplot as plt\n",
        "niter = 100\n",
        "\n",
        "# Try several runs with the same alpha\n",
        "for alpha in (0.5, 0.5, 0.5):\n",
        "  _,_,_, Jws, _ = sto_gradient_descent(alpha, niter, (areas, nbedrooms, prices))\n",
        "  plt.plot(range(niter+1), Jws, label='alpha = {}'.format(alpha))\n",
        "plt.xlabel('iteration')\n",
        "plt.ylabel('J(w)')\n",
        "plt.legend()\n",
        "plt.show()"
      ]
    },
    {
      "cell_type": "markdown",
      "metadata": {
        "id": "jNGQTbFVDvSb"
      },
      "source": [
        "### Comment on the comparison with the previous experiments with stochastic gradient descent (other learning rates), and with gradient descent (e.g. with learning rate 1.0 for gradient descent and 0.5 for the stochastic version).\n",
        "\n",
        "\n",
        "1. stochastic gradient descent will change the random points each time, so the Jw function will change. But gradient descient will make the Jw trend fixed.\n",
        "2. For learning rate = 0.5, we notice the stochastic gradient descent approach will not converge, but for learning rate = 0.1 or 0.01, we notice the stochastic gradient descent approach will converge.\n",
        "3. with learning rate 1.0 for gradient descent and 0.5 for the stochastic version): we notice that alpha = 1 for gradient descent converges really fast, but alpha = 0.5 for the stochastic version doesn't converge\n",
        "\n"
      ]
    },
    {
      "cell_type": "code",
      "execution_count": 114,
      "metadata": {},
      "outputs": [
        {
          "name": "stdout",
          "output_type": "stream",
          "text": [
            "k=0, J(w)=65591548106.45744\n",
            "k=10, J(w)=53802483965.89506\n",
            "k=20, J(w)=44245589521.92844\n",
            "k=30, J(w)=36489079464.91514\n",
            "k=40, J(w)=30186817066.683083\n",
            "k=50, J(w)=25060807019.775597\n",
            "k=60, J(w)=20887393221.120014\n",
            "k=70, J(w)=17486347244.693893\n",
            "k=80, J(w)=14712219196.319695\n",
            "k=90, J(w)=12447464565.477882\n",
            "k=0, J(w)=65591548106.45744\n",
            "k=10, J(w)=9828412382.488955\n",
            "k=20, J(w)=3149150567.499295\n",
            "k=30, J(w)=2247079093.680353\n",
            "k=40, J(w)=2096405990.7371314\n",
            "k=50, J(w)=2061269629.246131\n",
            "k=60, J(w)=2050155296.7053473\n",
            "k=70, J(w)=2046021948.2604976\n",
            "k=80, J(w)=2044388322.4515283\n",
            "k=90, J(w)=2043729844.9843402\n",
            "k=0, J(w)=65591548106.45744\n",
            "k=10, J(w)=2176789165.5439835\n",
            "k=20, J(w)=2048458902.9165492\n",
            "k=30, J(w)=2043583067.7216742\n",
            "k=40, J(w)=2043297904.0299792\n",
            "k=50, J(w)=2043281102.6060784\n",
            "k=60, J(w)=2043280112.591613\n",
            "k=70, J(w)=2043280054.2554877\n",
            "k=80, J(w)=2043280050.8180594\n",
            "k=90, J(w)=2043280050.6155117\n",
            "k=0, J(w)=65591548106.45744\n",
            "k=10, J(w)=2043331579.4534426\n",
            "k=20, J(w)=2043280051.0763092\n",
            "k=30, J(w)=2043280050.6028326\n",
            "k=40, J(w)=2043280050.602828\n",
            "k=50, J(w)=2043280050.6028283\n",
            "k=60, J(w)=2043280050.602829\n",
            "k=70, J(w)=2043280050.6028283\n",
            "k=80, J(w)=2043280050.6028283\n",
            "k=90, J(w)=2043280050.6028283\n"
          ]
        },
        {
          "data": {
            "image/png": "[encoded data removed]",
            "text/plain": [
              "<Figure size 432x288 with 1 Axes>"
            ]
          },
          "metadata": {
            "needs_background": "light"
          },
          "output_type": "display_data"
        }
      ],
      "source": [
        "# Here we test the gradient descent case learning rate = 1.0\n",
        "# # Test gradient_descent\n",
        "areas, nbedrooms, prices = read_data('normalized.txt')\n",
        "import matplotlib.pyplot as plt\n",
        "niter = 100\n",
        "\n",
        "# Try several values of alpha\n",
        "for alpha in (0.01, 0.1, 0.3,1):\n",
        "  _,_,_, Jws = gradient_descent(alpha, niter, (areas, nbedrooms, prices))\n",
        "  plt.plot(range(niter+1), Jws, label='alpha = {}'.format(alpha))\n",
        "plt.xlabel('iteration')\n",
        "plt.ylabel('J(w)')\n",
        "plt.legend()\n",
        "plt.show()\n"
      ]
    },
    {
      "cell_type": "markdown",
      "metadata": {
        "id": "yu5G25E1eCVx"
      },
      "source": [
        "# Prediction"
      ]
    },
    {
      "cell_type": "code",
      "execution_count": 65,
      "metadata": {
        "id": "tFoCUV_oD8hE"
      },
      "outputs": [
        {
          "name": "stdout",
          "output_type": "stream",
          "text": [
            "k=0, J(w)=65591548106.45744\n",
            "k=10, J(w)=2053621301.114161\n",
            "k=20, J(w)=2043351493.004735\n",
            "k=30, J(w)=2043280546.8124447\n",
            "k=40, J(w)=2043280054.0492997\n",
            "k=50, J(w)=2043280050.6267667\n",
            "k=60, J(w)=2043280050.602995\n",
            "k=70, J(w)=2043280050.602829\n",
            "k=80, J(w)=2043280050.6028285\n",
            "k=90, J(w)=2043280050.6028285\n",
            "i=19, J(w|x)=179400500000.0, J(w)=65591548106.45744\n",
            "i=0, J(w|x)=6532204478.523624, J(w)=113445837869.34834\n",
            "i=26, J(w|x)=28770312271.156593, J(w)=16862294157.670475\n",
            "i=46, J(w|x)=25577074673.52248, J(w)=40099144172.89965\n",
            "i=15, J(w|x)=11016054593.14888, J(w)=11052383660.611048\n",
            "i=19, J(w|x)=995142602039.1172, J(w)=447247156034.60114\n",
            "i=15, J(w|x)=32372540964.60538, J(w)=812986096175.7051\n",
            "i=0, J(w|x)=608897258245.6125, J(w)=1391158421866.651\n",
            "i=11, J(w|x)=847347337197.4015, J(w)=1399635225203.1543\n",
            "i=3, J(w|x)=485124965752.0039, J(w)=384300026030.8047\n",
            "Exact formula prediction (before normalization): 180909541.769921\n",
            "gradient descent prediction (before normalization): 180909541.76837653\n",
            "stochastic gradient descent prediction (before normalization): 147308234.53253847\n"
          ]
        }
      ],
      "source": [
        "# This is a result before normalization\n",
        "areas,nbedrooms,prices = read_data(\"normalized.txt\")\n",
        "w01,w11,w21 = optimal_w(areas,nbedrooms,prices)\n",
        "w02,w12,w22,Jws = gradient_descent(alpha, niter,(areas,nbedrooms,prices))\n",
        "w03,w13,w23,Jw,Jws_sample = sto_gradient_descent(alpha,niter,(areas,nbedrooms,prices))\n",
        "optimal_w_pre = w01+w11*1650+w21*3\n",
        "gradient_descent_pre = w02+w12*1650+w22*3\n",
        "sto_gradient_descent_pre = w03+w13*1650+w23*3\n",
        "\n",
        "print(\"Exact formula prediction (before normalization):\",optimal_w_pre)\n",
        "print(\"gradient descent prediction (before normalization):\", gradient_descent_pre)\n",
        "print(\"stochastic gradient descent prediction (before normalization):\",sto_gradient_descent_pre)\n"
      ]
    },
    {
      "cell_type": "code",
      "execution_count": 63,
      "metadata": {},
      "outputs": [
        {
          "name": "stdout",
          "output_type": "stream",
          "text": [
            "Exact formula prediction (after normalization): 293081.4643348961\n",
            "gradient descent prediction (after normalization): 293081.4643351024\n",
            "stochastic gradient descent prediction (after normalization): 358776.0855929283\n"
          ]
        }
      ],
      "source": [
        "#This is a result after the normalization\n",
        "areas_mean, areas_stddev, nbedrooms_mean, nbedrooms_stddev = create_normalized_data('housing.txt')\n",
        "norm_area=(1650-areas_mean)/areas_stddev\n",
        "norm_room=(3-nbedrooms_mean)/nbedrooms_stddev\n",
        "\n",
        "norm_optimal_w_pre = w01+w11*norm_area+w21*norm_room\n",
        "norm_gradient_descent_pre = w02+w12*norm_area+w22*norm_room\n",
        "norm_sto_gradient_descent_pre = w03+w13*norm_area+w23*norm_room\n",
        "\n",
        "print(\"Exact formula prediction (after normalization):\",norm_optimal_w_pre)\n",
        "print(\"gradient descent prediction (after normalization):\", norm_gradient_descent_pre)\n",
        "print(\"stochastic gradient descent prediction (after normalization):\",norm_sto_gradient_descent_pre)"
      ]
    },
    {
      "cell_type": "markdown",
      "metadata": {
        "id": "jvfejJl6D-iR"
      },
      "source": [
        "we should use data after normalization to solve the problem, since the weight we trained was baseed on the normalized data, so for new predicted data, we should also use the normalized one."
      ]
    },
    {
      "cell_type": "markdown",
      "metadata": {
        "id": "NF70S6TMfPDm"
      },
      "source": [
        "# Polynomial regression "
      ]
    },
    {
      "cell_type": "markdown",
      "metadata": {
        "id": "z2LwqkYFkFDc"
      },
      "source": [
        "We now consider a regression with polynomials of degree $2$, and the cost function: \n",
        "$$\n",
        "  J(w) = J(w_0,w_1,w_2) = \\frac{1}{2N}\\sum_{i=1}^N\\left(y^{(i)} - w_0 - w_1 x^{(i)}_1 - w_2 x^{(i)}_2  - w_3 x^{(i)}_1 x^{(i)}_1 - w_4 x^{(i)}_1 x^{(i)}_2 - w_5 x^{(i)}_2 x^{(i)}_2\\right)^2\n",
        "$$"
      ]
    },
    {
      "cell_type": "code",
      "execution_count": 72,
      "metadata": {
        "id": "PQKGqnR0fUH4"
      },
      "outputs": [],
      "source": [
        "import random\n",
        "\n",
        "# For the sake of reproducibility we fix \n",
        "# the seed of the randomness\n",
        "random.seed(42) \n",
        "\n",
        "def sto_gradient_descent_poly(alpha, niter, data):\n",
        "  w0, w1, w2, w3, w4, w5 = 0., 0., 0., 0., 0., 0.\n",
        "  areas, nbedrooms, prices = data\n",
        "  N_samples = len(areas)\n",
        "  Jws_sample = []\n",
        "  Jws = []\n",
        "  x1 = np.array(areas)\n",
        "  x2 = np.array(nbedrooms)\n",
        "  y = np.array(prices)\n",
        "  for k in range (niter):\n",
        "    # Pick randomly a sample's index\n",
        "    i = random.randint(0,N_samples-1)\n",
        "    Jw_sample = (1/2)*(y[i]-w0-w1*x1[i]-w2*x2[i]-w3*x1[i]*x1[i]-w4*x1[i]*x2[i]-w5*x2[i]*x2[i])**2# value of J on this sample \n",
        "    Jws_sample.append(Jw_sample) \n",
        "    # Evaluate true J(w)\n",
        "    Jw = (1/(2*N_samples))*np.sum((y-(w0+w1*x1+w2*x2+w3*x1*x1+w4*x1*x2+w5*x2*x2))**2)# value of J on the whole data set\n",
        "    Jws.append(Jw)\n",
        "    if k%10==0:\n",
        "      print(\"i={}, J(w|x)={}, J(w)={}\".format(i, Jw_sample, Jw))\n",
        "    # Compute partial derivatives\n",
        "    dJ_dw0 = -1*(y[i]-w0-w1*x1[i]-w2*x2[i]-w3*x1[i]*x1[i]-w4*x1[i]*x2[i]-w5*x2[i]*x2[i])\n",
        "    dJ_dw1 = dJ_dw0 *x1[i]\n",
        "    dJ_dw2 = dJ_dw0 *x2[i]\n",
        "    dJ_dw3 = dJ_dw0 *x1[i]*x1[i]\n",
        "    dJ_dw4 = dJ_dw0 *x1[i]*x2[i]\n",
        "    dJ_dw5 = dJ_dw0 *x2[i]*x2[i]\n",
        "    # Update weights\n",
        "    w0 = w0-alpha*dJ_dw0\n",
        "    w1 = w1-alpha*dJ_dw1\n",
        "    w2 = w2-alpha*dJ_dw2\n",
        "    w3 = w3-alpha*dJ_dw3\n",
        "    w4 = w4-alpha*dJ_dw4\n",
        "    w5 = w5-alpha*dJ_dw5\n",
        "  # Do one last evaluation after the last gradient step\n",
        "  i = random.randint(0,N_samples-1)\n",
        "  Jw_sample = (1/2)*(y[i]-w0-w1*x1[i]-w2*x2[i]-w3*x1[i]*x1[i]-w4*x1[i]*x2[i]-w5*x2[i]*x2[i])**2\n",
        "  Jws_sample.append(Jw_sample)\n",
        "  # Evaluate true J(w) \n",
        "  Jw = (1/(2*N_samples))*np.sum((y[i]-w0-w1*x1[i]-w2*x2[i]-w3*x1[i]*x1[i]-w4*x1[i]*x2[i]-w5*x2[i]*x2[i])**2)\n",
        "  Jws.append(Jw)\n",
        "  \n",
        "  return w0, w1, w2, w3, w4, w5, Jws, Jws_sample"
      ]
    },
    {
      "cell_type": "code",
      "execution_count": 73,
      "metadata": {
        "id": "-caAXqmVglG1"
      },
      "outputs": [
        {
          "name": "stdout",
          "output_type": "stream",
          "text": [
            "i=40, J(w|x)=67896125000.0, J(w)=65591548106.45744\n",
            "i=5, J(w|x)=31999124146.803795, J(w)=47220145248.58572\n",
            "i=1, J(w|x)=34534060335.07038, J(w)=29422967581.102997\n",
            "i=37, J(w|x)=18396533264.51412, J(w)=25702163750.70719\n",
            "i=21, J(w|x)=6363183810.023515, J(w)=32406485546.276638\n",
            "i=46, J(w|x)=3509772961.9713426, J(w)=20293787274.47399\n",
            "i=23, J(w|x)=2727155117.975608, J(w)=18844144874.30364\n",
            "i=14, J(w|x)=2740797662.088192, J(w)=20152207899.401188\n",
            "i=13, J(w|x)=237568762141.67316, J(w)=20926364301.488792\n",
            "i=34, J(w|x)=2885441064.851159, J(w)=14416452086.102272\n",
            "i=14, J(w|x)=2471918423.315011, J(w)=12883550145.236988\n",
            "i=13, J(w|x)=27180090043.06948, J(w)=12218169341.569063\n",
            "i=9, J(w|x)=2617561044.2652545, J(w)=12117520638.930637\n",
            "i=25, J(w|x)=141036804.78287587, J(w)=9908973011.678747\n",
            "i=40, J(w|x)=21193671250.209362, J(w)=10122741160.8737\n",
            "i=33, J(w|x)=34958696538.13873, J(w)=9538083968.374327\n",
            "i=41, J(w|x)=8574374043.826614, J(w)=8430767198.269477\n",
            "i=16, J(w|x)=2420606932.864135, J(w)=7807302799.330498\n",
            "i=12, J(w|x)=8049725684.9829645, J(w)=7568052299.328343\n",
            "i=1, J(w|x)=7932574979.489865, J(w)=8714597198.415554\n",
            "i=46, J(w|x)=4297002.874600242, J(w)=6495885228.940214\n",
            "i=16, J(w|x)=5454576515.95041, J(w)=6293462389.044832\n",
            "i=19, J(w|x)=30083513518.296116, J(w)=5895713131.336315\n",
            "i=14, J(w|x)=121146081.57945651, J(w)=5857028102.948861\n",
            "i=4, J(w|x)=7828225921.361965, J(w)=6286514747.674697\n",
            "i=15, J(w|x)=5485981381.097024, J(w)=8063508143.395756\n",
            "i=30, J(w|x)=15594056762.452394, J(w)=7501846264.739685\n",
            "i=27, J(w|x)=14872509243.140387, J(w)=5250869715.022162\n",
            "i=25, J(w|x)=146790254.26266485, J(w)=4609989039.790216\n",
            "i=27, J(w|x)=12692680494.832691, J(w)=4325228460.0632305\n",
            "i=41, J(w|x)=1063831534.9398136, J(w)=4004032869.63631\n",
            "i=25, J(w|x)=466062028.82334524, J(w)=3947332718.92036\n",
            "i=44, J(w|x)=718739007.0357838, J(w)=3810014960.4181356\n",
            "i=3, J(w|x)=1331266.1964757387, J(w)=3898525760.020413\n",
            "i=33, J(w|x)=8804659918.113178, J(w)=3904911405.7664695\n",
            "i=15, J(w|x)=5657205604.991206, J(w)=3675471306.2975364\n",
            "i=26, J(w|x)=22136086141.85148, J(w)=3943759275.7603765\n",
            "i=20, J(w|x)=74553263.67656112, J(w)=3713646404.1289673\n",
            "i=4, J(w|x)=6062359353.619726, J(w)=4072133439.5378604\n",
            "i=16, J(w|x)=4062596620.1685147, J(w)=4406161829.16392\n",
            "i=45, J(w|x)=1256365127.3201563, J(w)=3568991076.673035\n",
            "i=6, J(w|x)=1276974936.64757, J(w)=3474715292.3294497\n",
            "i=13, J(w|x)=4778966382.387791, J(w)=3487649879.2272534\n",
            "i=3, J(w|x)=15191364.42625877, J(w)=3648397576.319871\n",
            "i=16, J(w|x)=2035972791.824881, J(w)=3436092298.9369226\n",
            "i=44, J(w|x)=886294354.9920877, J(w)=3215328140.281571\n",
            "i=2, J(w|x)=684299088.1275489, J(w)=3196423794.788693\n",
            "i=22, J(w|x)=342190080.6611067, J(w)=3158735760.6655245\n",
            "i=11, J(w|x)=1251213098.743673, J(w)=3205425519.7595787\n",
            "i=2, J(w|x)=559827276.5902117, J(w)=3124904767.2302656\n",
            "i=42, J(w|x)=2150403296.2451825, J(w)=3123106340.192169\n",
            "i=25, J(w|x)=142615641.52067548, J(w)=3078229540.603749\n",
            "i=2, J(w|x)=448405166.56769186, J(w)=3124875443.1196384\n",
            "i=7, J(w|x)=2137368804.885232, J(w)=3312057600.0993595\n",
            "i=34, J(w|x)=2014423553.1323411, J(w)=3104093063.7681046\n",
            "i=39, J(w|x)=1891715020.2476497, J(w)=2999795423.088445\n",
            "i=20, J(w|x)=538761121.3142604, J(w)=3012236124.556725\n",
            "i=43, J(w|x)=636449713.9888289, J(w)=2902690733.5139785\n",
            "i=13, J(w|x)=6513914200.529582, J(w)=3340282105.929551\n",
            "i=13, J(w|x)=13677246038.649164, J(w)=3105737168.948896\n",
            "i=39, J(w|x)=3277141370.656072, J(w)=3573029739.7831783\n",
            "i=2, J(w|x)=79116929.34736156, J(w)=3883721867.085916\n",
            "i=45, J(w|x)=1849784072.9398406, J(w)=4365243420.861431\n",
            "i=6, J(w|x)=972262035.0992931, J(w)=2774007129.6704655\n",
            "i=7, J(w|x)=2360812978.6506815, J(w)=2786029510.1968174\n",
            "i=39, J(w|x)=2182098265.784383, J(w)=3139318514.6766257\n",
            "i=15, J(w|x)=4110415849.7529507, J(w)=2903573871.337531\n",
            "i=45, J(w|x)=1481795400.8379273, J(w)=2661290354.0741196\n",
            "i=14, J(w|x)=6706677.065663676, J(w)=2644239016.820086\n",
            "i=34, J(w|x)=2718320422.6704965, J(w)=3314974351.346707\n",
            "i=36, J(w|x)=499217964.43073595, J(w)=2906267026.8356147\n",
            "i=38, J(w|x)=709668987.4914161, J(w)=2729887379.382206\n",
            "i=42, J(w|x)=2243796573.891339, J(w)=3075056669.4352603\n",
            "i=25, J(w|x)=1816251.9551768254, J(w)=3425379643.6629047\n",
            "i=11, J(w|x)=531524147.6913869, J(w)=3627070074.245525\n",
            "i=17, J(w|x)=2453735940.0622973, J(w)=3277910339.8480315\n",
            "i=41, J(w|x)=34240557.16275136, J(w)=3182521255.3233466\n",
            "i=15, J(w|x)=2106890178.9761052, J(w)=3394597543.958442\n",
            "i=23, J(w|x)=3242440863.0713115, J(w)=2936439722.0204105\n",
            "i=1, J(w|x)=1327633472.3990884, J(w)=2640830201.0086856\n",
            "i=44, J(w|x)=895267728.9009514, J(w)=2547604397.950258\n",
            "i=2, J(w|x)=100654460.39703037, J(w)=2686178374.6051087\n",
            "i=0, J(w|x)=2927684859.324729, J(w)=2595929478.7627387\n",
            "i=27, J(w|x)=4727422338.413017, J(w)=2650916739.770027\n",
            "i=27, J(w|x)=4430455968.813196, J(w)=2558091475.491277\n",
            "i=29, J(w|x)=4307160187.55819, J(w)=2478250232.986773\n",
            "i=31, J(w|x)=2473.7733310347403, J(w)=2682157767.902868\n",
            "i=0, J(w|x)=2943040919.979243, J(w)=2610634838.736992\n",
            "i=44, J(w|x)=53362.737211957356, J(w)=2511427326.242605\n",
            "i=25, J(w|x)=36254538.13547536, J(w)=2452891354.3735156\n",
            "i=22, J(w|x)=787145742.3027706, J(w)=2398180239.648485\n",
            "i=14, J(w|x)=8475433.947998958, J(w)=2511452149.786303\n",
            "i=13, J(w|x)=698872724.6642764, J(w)=2452245218.0191445\n",
            "i=18, J(w|x)=4956095120.244092, J(w)=2536545532.4533386\n",
            "i=2, J(w|x)=1012037.5781233863, J(w)=2367797155.1337996\n",
            "i=36, J(w|x)=78583601.41192792, J(w)=2385617687.209351\n",
            "i=7, J(w|x)=2191289574.8133073, J(w)=2364733561.728665\n",
            "i=9, J(w|x)=417156045.83043706, J(w)=2399707694.8610387\n",
            "i=39, J(w|x)=3764340701.023142, J(w)=2637617707.270021\n",
            "i=36, J(w|x)=151372423.92875624, J(w)=2393340705.1901555\n",
            "i=10, J(w|x)=28799760000.5, J(w)=65591548106.45744\n",
            "i=38, J(w|x)=52548959916.49382, J(w)=41764410919.4423\n",
            "i=4, J(w|x)=34169150264.557022, J(w)=27912936788.722298\n",
            "i=34, J(w|x)=8273673295.574182, J(w)=27469912761.39358\n",
            "i=38, J(w|x)=77831685979.50235, J(w)=29868964849.0282\n",
            "i=17, J(w|x)=3466202803.380018, J(w)=22436442732.177185\n",
            "i=38, J(w|x)=615248336.8142986, J(w)=20137664652.795143\n",
            "i=17, J(w|x)=2032010256.717728, J(w)=17115303790.186523\n",
            "i=37, J(w|x)=6406315986.351687, J(w)=14959924932.957844\n",
            "i=42, J(w|x)=904540072.2514746, J(w)=12857553263.883123\n",
            "i=35, J(w|x)=4292766609.395654, J(w)=12291622351.172527\n",
            "i=0, J(w|x)=27144015507.08458, J(w)=11332198783.676497\n",
            "i=31, J(w|x)=14581893102.444214, J(w)=11069181679.37224\n",
            "i=44, J(w|x)=2800893897.6365886, J(w)=13437748739.267359\n",
            "i=35, J(w|x)=1312187700.7883363, J(w)=7831648218.320442\n",
            "i=9, J(w|x)=638551288.3049266, J(w)=7273942281.484556\n",
            "i=15, J(w|x)=13039866052.227173, J(w)=6696112869.866345\n",
            "i=17, J(w|x)=381918808.93643504, J(w)=6380539795.548129\n",
            "i=37, J(w|x)=453207928.48997164, J(w)=6443462691.795792\n",
            "i=34, J(w|x)=127816408.74235858, J(w)=5682230579.795767\n",
            "i=26, J(w|x)=28725433731.30958, J(w)=5547508740.577373\n",
            "i=31, J(w|x)=7106917776.422852, J(w)=5298501435.07326\n",
            "i=29, J(w|x)=6181191.584375019, J(w)=5006581215.009767\n",
            "i=21, J(w|x)=58182741.23423305, J(w)=5173237320.059809\n",
            "i=20, J(w|x)=76871534.83626127, J(w)=4728828826.959621\n",
            "i=43, J(w|x)=755384701.9674244, J(w)=4651404532.076301\n",
            "i=10, J(w|x)=4340123294.19809, J(w)=4940236979.169524\n",
            "i=27, J(w|x)=11729364753.992472, J(w)=5287688359.664319\n",
            "i=5, J(w|x)=864157028.5187831, J(w)=5871893648.333422\n",
            "i=29, J(w|x)=543591024.3268249, J(w)=4308676348.084693\n",
            "i=34, J(w|x)=1280193877.6249273, J(w)=4558517171.108964\n",
            "i=16, J(w|x)=1432921270.8518343, J(w)=5096581206.724493\n",
            "i=22, J(w|x)=195864240.91040275, J(w)=4663933547.501578\n",
            "i=36, J(w|x)=569262760.6770657, J(w)=4350460729.375906\n",
            "i=40, J(w|x)=10495995313.514042, J(w)=3920387338.29568\n",
            "i=6, J(w|x)=1543604974.535498, J(w)=3665851733.7893105\n",
            "i=8, J(w|x)=1318200514.3663774, J(w)=3591946942.5513024\n",
            "i=33, J(w|x)=14905567980.005365, J(w)=3567112280.5079618\n",
            "i=4, J(w|x)=5130745639.123729, J(w)=3683453108.3241343\n",
            "i=25, J(w|x)=155053624.95289475, J(w)=3775092554.873099\n",
            "i=37, J(w|x)=46217894.30393631, J(w)=3812569966.6518865\n",
            "i=35, J(w|x)=164487779.39471337, J(w)=3925224332.562996\n",
            "i=41, J(w|x)=311111272.0786561, J(w)=4161517901.5134525\n",
            "i=15, J(w|x)=4343862514.944535, J(w)=3281126457.1037955\n",
            "i=37, J(w|x)=10816924.671473932, J(w)=3255260072.1700087\n",
            "i=2, J(w|x)=1063500371.6686978, J(w)=3193038597.102952\n",
            "i=23, J(w|x)=2720582430.2411566, J(w)=3114860049.618563\n",
            "i=5, J(w|x)=433625015.24777997, J(w)=3168640206.2023335\n",
            "i=8, J(w|x)=1261182609.6276326, J(w)=3228452666.0281854\n",
            "i=9, J(w|x)=330163049.3010396, J(w)=3424365805.8202753\n",
            "i=42, J(w|x)=1768136229.1385927, J(w)=3154582561.741791\n",
            "i=16, J(w|x)=1985920806.8197167, J(w)=3110343910.684249\n",
            "i=32, J(w|x)=666283963.2466145, J(w)=3000062476.0382047\n",
            "i=33, J(w|x)=11133504111.227026, J(w)=2907733443.4106092\n",
            "i=6, J(w|x)=711258767.5341688, J(w)=3192204907.87597\n",
            "i=8, J(w|x)=1331404643.8638885, J(w)=2873492191.8822007\n",
            "i=33, J(w|x)=12192304716.779024, J(w)=3082844910.390197\n",
            "i=41, J(w|x)=14745765.861050192, J(w)=3016471501.2408237\n",
            "i=25, J(w|x)=147676543.9569149, J(w)=3121410432.906171\n",
            "i=9, J(w|x)=621280167.8893807, J(w)=3068482241.953755\n",
            "i=8, J(w|x)=2008657902.816994, J(w)=3194092133.2475996\n",
            "i=22, J(w|x)=717847186.7489508, J(w)=2964478255.6162705\n",
            "i=36, J(w|x)=463913335.1977123, J(w)=2630679779.203148\n",
            "i=23, J(w|x)=3270449971.3045835, J(w)=2643151914.925577\n",
            "i=41, J(w|x)=2298334.548549473, J(w)=2617625056.821506\n",
            "i=44, J(w|x)=45739081.8903185, J(w)=3020266098.0792813\n",
            "i=4, J(w|x)=7319899730.176856, J(w)=2743083473.374995\n",
            "i=21, J(w|x)=998529958.3715054, J(w)=2563826483.9587507\n",
            "i=9, J(w|x)=294539573.5029606, J(w)=2797920831.9366374\n",
            "i=31, J(w|x)=34146852.09919751, J(w)=2873788466.6048374\n",
            "i=7, J(w|x)=2604965832.918269, J(w)=3065919810.019549\n",
            "i=14, J(w|x)=1786241.6933417777, J(w)=2972199022.359954\n",
            "i=18, J(w|x)=7661733318.60608, J(w)=3037219916.473211\n",
            "i=45, J(w|x)=358670136.4404763, J(w)=2621104347.211766\n",
            "i=1, J(w|x)=1361679941.1113048, J(w)=2491659875.9663496\n",
            "i=26, J(w|x)=19194483562.26109, J(w)=2391319249.799307\n",
            "i=23, J(w|x)=2940209726.941163, J(w)=2395026487.9873013\n",
            "i=25, J(w|x)=681660.8613200582, J(w)=2378029396.0148582\n",
            "i=33, J(w|x)=4433127980.111979, J(w)=2587101237.216236\n",
            "i=9, J(w|x)=482849659.43600744, J(w)=2728423941.8629007\n",
            "i=31, J(w|x)=2101018194.023979, J(w)=2359328582.980165\n",
            "i=20, J(w|x)=986580756.7548813, J(w)=2427856275.6716647\n",
            "i=17, J(w|x)=1642707170.1251786, J(w)=2481223563.2095695\n",
            "i=3, J(w|x)=1129884409.4795065, J(w)=2650408453.8897557\n",
            "i=29, J(w|x)=4705012197.584697, J(w)=2369239175.1218905\n",
            "i=30, J(w|x)=791765484.4097747, J(w)=2524130426.1699967\n",
            "i=41, J(w|x)=183234533.36360243, J(w)=2575750259.055889\n",
            "i=10, J(w|x)=4683567857.907038, J(w)=2282481254.799797\n",
            "i=40, J(w|x)=3973160132.0888577, J(w)=2553040311.625815\n",
            "i=16, J(w|x)=1640218217.0746603, J(w)=2277130431.07957\n",
            "i=22, J(w|x)=832121150.4862648, J(w)=2684188027.59904\n",
            "i=19, J(w|x)=14263436516.978064, J(w)=2611891264.3332553\n",
            "i=5, J(w|x)=582628766.3451264, J(w)=2285119659.3543963\n",
            "i=13, J(w|x)=1144903954.869919, J(w)=2218436840.1800613\n",
            "i=32, J(w|x)=444326492.389685, J(w)=2403254422.437642\n",
            "i=9, J(w|x)=279096620.37686163, J(w)=2632422987.394855\n",
            "i=23, J(w|x)=1630992652.1586876, J(w)=2573646364.1016893\n",
            "i=15, J(w|x)=4228568577.645445, J(w)=2338442036.872196\n",
            "i=24, J(w|x)=906454480.2892078, J(w)=2163633076.802813\n",
            "i=41, J(w|x)=499304827.3885436, J(w)=2407319356.2614903\n",
            "i=17, J(w|x)=19980005000.0, J(w)=65591548106.45744\n",
            "i=26, J(w|x)=90932237991.66908, J(w)=49247294563.71072\n",
            "i=1, J(w|x)=34325505340.92294, J(w)=28998525159.211403\n",
            "i=30, J(w|x)=17852388465.91694, J(w)=23547837504.889847\n",
            "i=16, J(w|x)=1389522066.0780108, J(w)=20897639968.452953\n",
            "i=15, J(w|x)=36317261333.554184, J(w)=18109469454.17462\n",
            "i=7, J(w|x)=858253043.1227788, J(w)=19614210140.194237\n",
            "i=9, J(w|x)=5308689011.406893, J(w)=14762744702.862549\n",
            "i=42, J(w|x)=1183183245.9053981, J(w)=12538040715.733595\n",
            "i=35, J(w|x)=2839954726.522137, J(w)=13799904521.83774\n",
            "i=22, J(w|x)=2455962166.594555, J(w)=13344227953.056469\n",
            "i=8, J(w|x)=49633276.04517598, J(w)=15177293773.346384\n",
            "i=30, J(w|x)=5145905978.892204, J(w)=13167166141.227045\n",
            "i=2, J(w|x)=10890947021.574839, J(w)=15662010871.089083\n",
            "i=2, J(w|x)=9658181606.135828, J(w)=17162938679.9593\n",
            "i=23, J(w|x)=1547858469.6672258, J(w)=17042015107.68934\n",
            "i=23, J(w|x)=138717643.03335038, J(w)=8634233358.701002\n",
            "i=34, J(w|x)=54398151.56347263, J(w)=8188486948.824217\n",
            "i=38, J(w|x)=14371157942.528526, J(w)=6844148706.572183\n",
            "i=22, J(w|x)=775785936.6337047, J(w)=6265259305.591987\n",
            "i=23, J(w|x)=1571204550.0297446, J(w)=5548274691.047031\n",
            "i=8, J(w|x)=27454058.688781742, J(w)=5309618183.725062\n",
            "i=9, J(w|x)=278721985.9832765, J(w)=5243456565.946955\n",
            "i=23, J(w|x)=2035634881.9077497, J(w)=4705255651.862625\n",
            "i=33, J(w|x)=17733794446.654377, J(w)=4778999922.883937\n",
            "i=18, J(w|x)=14086658182.93778, J(w)=4777584820.952775\n",
            "i=28, J(w|x)=21109002471.45231, J(w)=4188183057.4191437\n",
            "i=18, J(w|x)=9853502592.21458, J(w)=4008740755.614484\n",
            "i=14, J(w|x)=161502247.89145893, J(w)=4101940942.629402\n",
            "i=23, J(w|x)=2202189482.284933, J(w)=4038359784.166589\n",
            "i=46, J(w|x)=3307097.312921606, J(w)=4352716282.905638\n",
            "i=4, J(w|x)=3157141312.2454276, J(w)=4887496582.663547\n",
            "i=11, J(w|x)=2743205811.7908645, J(w)=5727844160.17567\n",
            "i=10, J(w|x)=5683177957.682753, J(w)=6514429515.095582\n",
            "i=40, J(w|x)=5734948984.368693, J(w)=7172392900.234644\n",
            "i=41, J(w|x)=346288100.9457299, J(w)=7887389489.251693\n",
            "i=21, J(w|x)=214916451.3114337, J(w)=3550105229.8224506\n",
            "i=13, J(w|x)=192780323.09282815, J(w)=3418001407.8393664\n",
            "i=41, J(w|x)=446670701.00025225, J(w)=3291347212.443132\n",
            "i=3, J(w|x)=146060218.98248857, J(w)=3682936309.8631077\n",
            "i=20, J(w|x)=96749490.16968772, J(w)=3716489297.859774\n",
            "i=6, J(w|x)=1974630201.8298516, J(w)=3840371490.17777\n",
            "i=3, J(w|x)=70352899.46712425, J(w)=3496461524.214191\n",
            "i=20, J(w|x)=166770019.80129015, J(w)=3237123749.99915\n",
            "i=5, J(w|x)=587801487.9293126, J(w)=3147856852.284421\n",
            "i=18, J(w|x)=6210472857.711407, J(w)=3136685975.9343734\n",
            "i=27, J(w|x)=7413805399.363301, J(w)=3101110543.5321693\n",
            "i=36, J(w|x)=188769369.9006193, J(w)=2995360598.590723\n",
            "i=35, J(w|x)=29586066.337669443, J(w)=2868025920.3929477\n",
            "i=21, J(w|x)=322255864.0677562, J(w)=2932274594.9851165\n",
            "i=2, J(w|x)=692141593.9162612, J(w)=3304443793.906167\n",
            "i=32, J(w|x)=159746130.29110268, J(w)=3302104431.1720247\n",
            "i=21, J(w|x)=315551427.4616882, J(w)=3003363593.1748214\n",
            "i=23, J(w|x)=2806111846.1202273, J(w)=2806099893.108711\n",
            "i=1, J(w|x)=1912939017.8717852, J(w)=2868296677.6007886\n",
            "i=37, J(w|x)=792421.9951532532, J(w)=2895745856.359166\n",
            "i=15, J(w|x)=4549677160.331236, J(w)=2825781243.3906956\n",
            "i=9, J(w|x)=320812394.10057014, J(w)=2770370410.396029\n",
            "i=45, J(w|x)=884802409.7401608, J(w)=2905029478.454194\n",
            "i=20, J(w|x)=615733712.0261761, J(w)=2766140350.7350845\n",
            "i=41, J(w|x)=48930.11647707586, J(w)=2815679101.2706485\n",
            "i=14, J(w|x)=14429.34898702637, J(w)=2687054013.818806\n",
            "i=22, J(w|x)=475844892.9118605, J(w)=2856991365.1486516\n",
            "i=25, J(w|x)=60288523.57451387, J(w)=2843049915.1227036\n",
            "i=41, J(w|x)=16095924.169917095, J(w)=2628118392.273382\n",
            "i=8, J(w|x)=1058249470.2351174, J(w)=2632864688.6457753\n",
            "i=40, J(w|x)=3456636938.9357786, J(w)=2650410684.6932116\n",
            "i=8, J(w|x)=1403331696.6045501, J(w)=2719916350.2152834\n",
            "i=18, J(w|x)=4601258918.975666, J(w)=2764749896.145334\n",
            "i=46, J(w|x)=170080999.55019212, J(w)=2812293181.383651\n",
            "i=2, J(w|x)=5173561.4303864725, J(w)=2590143238.0910463\n",
            "i=34, J(w|x)=1438794356.636195, J(w)=2726151407.3048286\n",
            "i=10, J(w|x)=5192676677.073478, J(w)=2723387542.6219444\n",
            "i=36, J(w|x)=150547083.70006952, J(w)=2596025284.3298264\n",
            "i=5, J(w|x)=991960331.654566, J(w)=2512321043.894631\n",
            "i=16, J(w|x)=1986767100.9785454, J(w)=2499471804.7601924\n",
            "i=0, J(w|x)=2381058277.484935, J(w)=2448355352.5858927\n",
            "i=19, J(w|x)=11845269967.190315, J(w)=2456235837.4197745\n",
            "i=18, J(w|x)=3654335557.059951, J(w)=2562730998.301326\n",
            "i=23, J(w|x)=3463258279.574262, J(w)=2593444482.5108776\n",
            "i=38, J(w|x)=16823218270.399086, J(w)=3198860873.7502427\n",
            "i=3, J(w|x)=931444856.5585872, J(w)=2492000392.934253\n",
            "i=28, J(w|x)=8892542140.557205, J(w)=2414071834.2822256\n",
            "i=3, J(w|x)=17253977.38751011, J(w)=2438648984.665527\n",
            "i=43, J(w|x)=1791825998.1258006, J(w)=2536025000.4436007\n",
            "i=2, J(w|x)=3242299.676161768, J(w)=2471212658.5263033\n",
            "i=18, J(w|x)=3355214541.0778446, J(w)=2649424377.2038894\n",
            "i=28, J(w|x)=8150330949.749836, J(w)=2472978910.3552046\n",
            "i=7, J(w|x)=2229988011.17287, J(w)=2321715745.699314\n",
            "i=19, J(w|x)=10091188923.754547, J(w)=2300720000.5774436\n",
            "i=29, J(w|x)=5311320362.646752, J(w)=2343424080.052932\n",
            "i=39, J(w|x)=2543949316.026259, J(w)=2309319778.328273\n",
            "i=43, J(w|x)=1625317806.2130651, J(w)=2541033067.0972376\n",
            "i=3, J(w|x)=1643894596.1937892, J(w)=2839633000.2994294\n",
            "i=43, J(w|x)=1752395727.254213, J(w)=2447074161.2310514\n",
            "i=17, J(w|x)=1473537518.0047505, J(w)=2613360321.4608145\n",
            "i=3, J(w|x)=37692280.68372494, J(w)=2291959026.190683\n",
            "i=9, J(w|x)=594373360.129796, J(w)=2273992332.191713\n",
            "i=9, J(w|x)=644594217.6736387, J(w)=2417410661.3250885\n",
            "i=15, J(w|x)=1689104772.784813, J(w)=2366837571.5037937\n"
          ]
        },
        {
          "data": {
            "image/png": "[encoded data removed]",
            "text/plain": [
              "<Figure size 432x288 with 1 Axes>"
            ]
          },
          "metadata": {
            "needs_background": "light"
          },
          "output_type": "display_data"
        }
      ],
      "source": [
        "# Test gradient_descent\n",
        "areas, nbedrooms, prices = read_data('normalized.txt')\n",
        "import matplotlib.pyplot as plt\n",
        "niter = 1000\n",
        "\n",
        "# Try several runs with the same alpha\n",
        "for alpha in (0.01, 0.01, 0.01):\n",
        "  _,_,_,_,_,_, Jws, _ = sto_gradient_descent_poly(alpha, niter, (areas, nbedrooms, prices))\n",
        "  plt.plot(range(niter+1), Jws, label='alpha = {}'.format(alpha))\n",
        "plt.xlabel('iteration')\n",
        "plt.ylabel('J(w)')\n",
        "plt.legend()\n",
        "plt.show()"
      ]
    }
  ],
  "metadata": {
    "colab": {
      "collapsed_sections": [],
      "provenance": [],
      "toc_visible": true
    },
    "kernelspec": {
      "display_name": "Python 3.9.12 ('base')",
      "language": "python",
      "name": "python3"
    },
    "language_info": {
      "codemirror_mode": {
        "name": "ipython",
        "version": 3
      },
      "file_extension": ".py",
      "mimetype": "text/x-python",
      "name": "python",
      "nbconvert_exporter": "python",
      "pygments_lexer": "ipython3",
      "version": "3.9.12"
    },
    "vscode": {
      "interpreter": {
        "hash": "40d3a090f54c6569ab1632332b64b2c03c39dcf918b08424e98f38b5ae0af88f"
      }
    }
  },
  "nbformat": 4,
  "nbformat_minor": 0
}
